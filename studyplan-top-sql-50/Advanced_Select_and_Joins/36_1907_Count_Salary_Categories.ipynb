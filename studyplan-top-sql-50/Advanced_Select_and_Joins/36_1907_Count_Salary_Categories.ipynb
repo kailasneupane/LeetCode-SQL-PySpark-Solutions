{
 "cells": [
  {
   "cell_type": "markdown",
   "source": [
    "# [1907. Count Salary Categories]('https://leetcode.com/problems/count-salary-categories/description/?envType=study-plan-v2&envId=top-sql-50')"
   ],
   "metadata": {
    "collapsed": false
   },
   "id": "f99d76caefe8079f"
  },
  {
   "cell_type": "markdown",
   "source": [
    "Table: Accounts\n",
    "\n",
    "<pre>+-------------+------+\n",
    "| Column Name | Type |\n",
    "+-------------+------+\n",
    "| account_id  | int  |\n",
    "| income      | int  |\n",
    "+-------------+------+</pre>\n",
    "account_id is the primary key (column with unique values) for this table.\n",
    "Each row contains information about the monthly income for one bank account.\n",
    " \n",
    "\n",
    "Write a solution to calculate the number of bank accounts for each salary category. The salary categories are:\n",
    "\n",
    "\"Low Salary\": All the salaries strictly less than 20000.\n",
    "\"Average Salary\": All the salaries in the inclusive range (20000, 50000).\n",
    "\"High Salary\": All the salaries strictly greater than 50000.\n",
    "\n",
    "The result table must contain all three categories. If there are no accounts in a category, return 0.\n",
    "\n",
    "Return the result table in any order.\n",
    "\n",
    "The result format is in the following example.\n",
    "\n",
    " \n",
    "\n",
    "Example 1:\n",
    "\n",
    "Input: \n",
    "Accounts table:\n",
    "<pre>+------------+--------+\n",
    "| account_id | income |\n",
    "+------------+--------+\n",
    "| 3          | 108939 |\n",
    "| 2          | 12747  |\n",
    "| 8          | 87709  |\n",
    "| 6          | 91796  |\n",
    "+------------+--------+</pre>\n",
    "Output: \n",
    "<pre>+----------------+----------------+\n",
    "| category       | accounts_count |\n",
    "+----------------+----------------+\n",
    "| Low Salary     | 1              |\n",
    "| Average Salary | 0              |\n",
    "| High Salary    | 3              |\n",
    "+----------------+----------------+</pre>\n",
    "Explanation: \n",
    "Low Salary: Account 2.\n",
    "Average Salary: No accounts.\n",
    "High Salary: Accounts 3, 6, and 8."
   ],
   "metadata": {
    "collapsed": false
   },
   "id": "92df45b4ff1a54df"
  },
  {
   "cell_type": "code",
   "execution_count": 1,
   "outputs": [],
   "source": [
    "import pandas as pd\n",
    "\n",
    "# Pandas schema\n",
    "\n",
    "data = [[3, 108939], [2, 12747], [8, 87709], [6, 91796]]\n",
    "accounts = pd.DataFrame(data, columns=['account_id', 'income']).astype({'account_id':'Int64', 'income':'Int64'})"
   ],
   "metadata": {
    "collapsed": false,
    "ExecuteTime": {
     "end_time": "2023-11-05T19:31:08.157527700Z",
     "start_time": "2023-11-05T19:31:07.472654200Z"
    }
   },
   "id": "ef403aa32edc5b1e"
  },
  {
   "cell_type": "code",
   "execution_count": 2,
   "outputs": [
    {
     "name": "stderr",
     "output_type": "stream",
     "text": [
      "bash: warning: setlocale: LC_ALL: cannot change locale (en_US.UTF-8)\n",
      "bash: warning: setlocale: LC_ALL: cannot change locale (en_US.UTF-8)\n",
      "23/11/05 12:37:09 WARN Utils: Your hostname, svchost resolves to a loopback address: 127.0.1.1; using 172.18.28.34 instead (on interface eth0)\n",
      "23/11/05 12:37:09 WARN Utils: Set SPARK_LOCAL_IP if you need to bind to another address\n",
      "Setting default log level to \"WARN\".\n",
      "To adjust logging level use sc.setLogLevel(newLevel). For SparkR, use setLogLevel(newLevel).\n",
      "23/11/05 12:37:11 WARN NativeCodeLoader: Unable to load native-hadoop library for your platform... using builtin-java classes where applicable\n",
      "                                                                                \r"
     ]
    },
    {
     "name": "stdout",
     "output_type": "stream",
     "text": [
      "+----------+------+\n",
      "|account_id|income|\n",
      "+----------+------+\n",
      "|3         |108939|\n",
      "|2         |12747 |\n",
      "|8         |87709 |\n",
      "|6         |91796 |\n",
      "+----------+------+\n"
     ]
    }
   ],
   "source": [
    "import pyspark.sql.functions as F\n",
    "from pyspark.sql import SparkSession\n",
    "from pyspark.sql.types import *\n",
    "\n",
    "#pyspark schema\n",
    "\n",
    "spark = SparkSession.builder.getOrCreate()\n",
    "\n",
    "accounts_df = spark.createDataFrame(accounts)\n",
    "accounts_df.show(truncate=False)"
   ],
   "metadata": {
    "collapsed": false,
    "ExecuteTime": {
     "end_time": "2023-11-05T19:31:25.410478100Z",
     "start_time": "2023-11-05T19:31:08.150596800Z"
    }
   },
   "id": "ca7cde997baaa96f"
  },
  {
   "cell_type": "code",
   "execution_count": 3,
   "outputs": [
    {
     "name": "stderr",
     "output_type": "stream",
     "text": [
      "[Stage 3:============================>                           (16 + 16) / 32]\r"
     ]
    },
    {
     "name": "stdout",
     "output_type": "stream",
     "text": [
      "+--------------+--------------+\n",
      "|      category|accounts_count|\n",
      "+--------------+--------------+\n",
      "|   High Salary|             3|\n",
      "|    Low Salary|             1|\n",
      "|Average Salary|             0|\n",
      "+--------------+--------------+\n"
     ]
    },
    {
     "name": "stderr",
     "output_type": "stream",
     "text": [
      "                                                                                \r"
     ]
    }
   ],
   "source": [
    "# in Spark Dataframe\n",
    "def category(income):\n",
    "    if income < 20000:\n",
    "        return 'Low Salary'\n",
    "    elif income > 50000:\n",
    "        return 'High Salary'\n",
    "    else:\n",
    "        return 'Average Salary'\n",
    "\n",
    "\n",
    "udf_category = F.udf(category, StringType())\n",
    "\n",
    "accounts_df.unionAll(\n",
    "    spark.createDataFrame([\n",
    "        (-1, 1),  #low\n",
    "        (-1, 20001),  #avg\n",
    "        (-1, 50001)])  #high\n",
    ").withColumn('category', udf_category('income')). \\\n",
    "    groupBy('category').agg(F.count('category').alias('accounts_count')). \\\n",
    "    withColumn('accounts_count', F.col('accounts_count') - 1).show()\n"
   ],
   "metadata": {
    "collapsed": false,
    "ExecuteTime": {
     "end_time": "2023-11-05T19:31:33.673952100Z",
     "start_time": "2023-11-05T19:31:25.410478100Z"
    }
   },
   "id": "9c647b45dc8ee9da"
  },
  {
   "cell_type": "code",
   "execution_count": 4,
   "outputs": [
    {
     "name": "stdout",
     "output_type": "stream",
     "text": [
      "+--------------+--------------+\n",
      "|      category|accounts_count|\n",
      "+--------------+--------------+\n",
      "|    Low Salary|             1|\n",
      "|Average Salary|             0|\n",
      "|   High Salary|             3|\n",
      "+--------------+--------------+\n"
     ]
    },
    {
     "name": "stderr",
     "output_type": "stream",
     "text": [
      "                                                                                \r"
     ]
    }
   ],
   "source": [
    "# in Spark SQL\n",
    "accounts_df.createOrReplaceTempView('accounts')\n",
    "spark.sql('''\n",
    "select category, count(category)-1 as accounts_count from \n",
    "(select *, case when income <20000 then \"Low Salary\" when income >50000 then \"High Salary\" else \"Average Salary\" end as category \n",
    "from (\n",
    "select -1 as account_id,1 as income -- low\n",
    "union all\n",
    "select -1 as account_id,20001 as income -- high\n",
    "union all\n",
    "select -1 as account_id,50001 as income -- avg\n",
    "union all\n",
    "select * from accounts\n",
    ")) group by category\n",
    "''').show()"
   ],
   "metadata": {
    "collapsed": false,
    "ExecuteTime": {
     "end_time": "2023-11-05T19:31:35.331791Z",
     "start_time": "2023-11-05T19:31:33.672881700Z"
    }
   },
   "id": "fbe69d8b8cc3845"
  },
  {
   "cell_type": "code",
   "execution_count": 5,
   "outputs": [
    {
     "name": "stderr",
     "output_type": "stream",
     "text": [
      "[Stage 9:=============================================>           (15 + 4) / 19]\r"
     ]
    },
    {
     "name": "stdout",
     "output_type": "stream",
     "text": [
      "+--------------+--------------+\n",
      "|      category|accounts_count|\n",
      "+--------------+--------------+\n",
      "|    Low Salary|             1|\n",
      "|Average Salary|             0|\n",
      "|   High Salary|             3|\n",
      "+--------------+--------------+\n"
     ]
    },
    {
     "name": "stderr",
     "output_type": "stream",
     "text": [
      "                                                                                \r"
     ]
    }
   ],
   "source": [
    "# IN spark SQL using udf\n",
    "\n",
    "accounts_df.createOrReplaceTempView('accounts')\n",
    "spark.udf.register('udf_category',udf_category)\n",
    "\n",
    "spark.sql('''\n",
    "select category, count(category)-1 as accounts_count from \n",
    "(select *, udf_category(income) as category \n",
    "from (\n",
    "select -1 as account_id,1 as income -- low\n",
    "union all\n",
    "select -1 as account_id,20001 as income -- high\n",
    "union all\n",
    "select -1 as account_id,50001 as income -- avg\n",
    "union all\n",
    "select * from accounts\n",
    ")) group by category\n",
    "''').show()"
   ],
   "metadata": {
    "collapsed": false,
    "ExecuteTime": {
     "end_time": "2023-11-05T19:31:37.120187800Z",
     "start_time": "2023-11-05T19:31:35.327180400Z"
    }
   },
   "id": "429283f9ab69c5d5"
  },
  {
   "cell_type": "code",
   "execution_count": 6,
   "outputs": [],
   "source": [
    "spark.stop()"
   ],
   "metadata": {
    "collapsed": false,
    "ExecuteTime": {
     "end_time": "2023-11-05T19:31:38.013392400Z",
     "start_time": "2023-11-05T19:31:37.104473700Z"
    }
   },
   "id": "3b09d0d3e7837236"
  },
  {
   "cell_type": "code",
   "execution_count": 6,
   "outputs": [],
   "source": [],
   "metadata": {
    "collapsed": false,
    "ExecuteTime": {
     "end_time": "2023-11-05T19:31:38.074193Z",
     "start_time": "2023-11-05T19:31:38.019842900Z"
    }
   },
   "id": "28a60a42afe42863"
  }
 ],
 "metadata": {
  "kernelspec": {
   "display_name": "Python 3",
   "language": "python",
   "name": "python3"
  },
  "language_info": {
   "codemirror_mode": {
    "name": "ipython",
    "version": 2
   },
   "file_extension": ".py",
   "mimetype": "text/x-python",
   "name": "python",
   "nbconvert_exporter": "python",
   "pygments_lexer": "ipython2",
   "version": "2.7.6"
  }
 },
 "nbformat": 4,
 "nbformat_minor": 5
}
