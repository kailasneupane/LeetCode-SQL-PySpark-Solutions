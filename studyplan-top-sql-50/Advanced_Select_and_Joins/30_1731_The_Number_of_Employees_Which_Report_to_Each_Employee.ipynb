{
 "cells": [
  {
   "cell_type": "markdown",
   "source": [
    "# [1731. The Number of Employees Which Report to Each Employee](https://leetcode.com/problems/the-number-of-employees-which-report-to-each-employee/description/?envType=study-plan-v2&envId=top-sql-50)"
   ],
   "metadata": {
    "collapsed": false
   },
   "id": "c30e3ed6430b0ed2"
  },
  {
   "cell_type": "markdown",
   "source": [
    "Table: Employees\n",
    "\n",
    "<pre>+-------------+----------+\n",
    "| Column Name | Type     |\n",
    "+-------------+----------+\n",
    "| employee_id | int      |\n",
    "| name        | varchar  |\n",
    "| reports_to  | int      |\n",
    "| age         | int      |\n",
    "+-------------+----------+</pre>\n",
    "employee_id is the column with unique values for this table.\n",
    "This table contains information about the employees and the id of the manager they report to. Some employees do not report to anyone (reports_to is null). \n",
    " \n",
    "\n",
    "For this problem, we will consider a manager an employee who has at least 1 other employee reporting to them.\n",
    "\n",
    "Write a solution to report the ids and the names of all managers, the number of employees who report directly to them, and the average age of the reports rounded to the nearest integer.\n",
    "\n",
    "Return the result table ordered by employee_id.\n",
    "\n",
    "The result format is in the following example.\n",
    "\n",
    " \n",
    "\n",
    "Example 1:\n",
    "\n",
    "Input: \n",
    "Employees table:\n",
    "<pre>+-------------+---------+------------+-----+\n",
    "| employee_id | name    | reports_to | age |\n",
    "+-------------+---------+------------+-----+\n",
    "| 9           | Hercy   | null       | 43  |\n",
    "| 6           | Alice   | 9          | 41  |\n",
    "| 4           | Bob     | 9          | 36  |\n",
    "| 2           | Winston | null       | 37  |\n",
    "+-------------+---------+------------+-----+</pre>\n",
    "Output: \n",
    "<pre>+-------------+-------+---------------+-------------+\n",
    "| employee_id | name  | reports_count | average_age |\n",
    "+-------------+-------+---------------+-------------+\n",
    "| 9           | Hercy | 2             | 39          |\n",
    "+-------------+-------+---------------+-------------+</pre>\n",
    "Explanation: Hercy has 2 people report directly to him, Alice and Bob. Their average age is (41+36)/2 = 38.5, which is 39 after rounding it to the nearest integer."
   ],
   "metadata": {
    "collapsed": false
   },
   "id": "dd1083bd8192929a"
  },
  {
   "cell_type": "code",
   "execution_count": 1,
   "outputs": [],
   "source": [
    "# Pandas schema\n",
    "\n",
    "import pandas as pd\n",
    "\n",
    "data = [[9, 'Hercy', None, 43], [6, 'Alice', 9, 41], [4, 'Bob', 9, 36], [2, 'Winston', None, 37]]\n",
    "employees = pd.DataFrame(data, columns=['employee_id', 'name', 'reports_to', 'age']) \\\n",
    "    .astype({'employee_id': 'Int64', 'name': 'object', 'reports_to': 'Int64', 'age': 'Int64'})"
   ],
   "metadata": {
    "collapsed": false,
    "ExecuteTime": {
     "end_time": "2023-11-05T19:15:59.019743Z",
     "start_time": "2023-11-05T19:15:58.394580700Z"
    }
   },
   "id": "f39c1065cbecb12d"
  },
  {
   "cell_type": "code",
   "execution_count": 2,
   "outputs": [
    {
     "name": "stderr",
     "output_type": "stream",
     "text": [
      "bash: warning: setlocale: LC_ALL: cannot change locale (en_US.UTF-8)\n",
      "bash: warning: setlocale: LC_ALL: cannot change locale (en_US.UTF-8)\n",
      "23/11/05 12:20:44 WARN Utils: Your hostname, svchost resolves to a loopback address: 127.0.1.1; using 172.18.28.34 instead (on interface eth0)\n",
      "23/11/05 12:20:44 WARN Utils: Set SPARK_LOCAL_IP if you need to bind to another address\n",
      "Setting default log level to \"WARN\".\n",
      "To adjust logging level use sc.setLogLevel(newLevel). For SparkR, use setLogLevel(newLevel).\n",
      "23/11/05 12:20:47 WARN NativeCodeLoader: Unable to load native-hadoop library for your platform... using builtin-java classes where applicable\n",
      "                                                                                \r"
     ]
    },
    {
     "name": "stdout",
     "output_type": "stream",
     "text": [
      "+-----------+-------+----------+---+\n",
      "|employee_id|   name|reports_to|age|\n",
      "+-----------+-------+----------+---+\n",
      "|          9|  Hercy|      null| 43|\n",
      "|          6|  Alice|         9| 41|\n",
      "|          4|    Bob|         9| 36|\n",
      "|          2|Winston|      null| 37|\n",
      "+-----------+-------+----------+---+\n"
     ]
    }
   ],
   "source": [
    "from pyspark.sql import SparkSession\n",
    "from pyspark.sql.types import StructType, StructField, IntegerType, StringType\n",
    "\n",
    "# To pyspark schema\n",
    "\n",
    "spark = SparkSession.builder.getOrCreate()\n",
    "\n",
    "schema = StructType([\n",
    "    StructField(\"employee_id\", IntegerType(), False),\n",
    "    StructField(\"name\", StringType(), True),\n",
    "    StructField(\"reports_to\", IntegerType(), True),\n",
    "    StructField(\"age\", IntegerType(), True)\n",
    "])\n",
    "\n",
    "employees_df = spark.createDataFrame(data, schema=schema)\n",
    "employees_df.show()"
   ],
   "metadata": {
    "collapsed": false,
    "ExecuteTime": {
     "end_time": "2023-11-05T19:16:15.027017300Z",
     "start_time": "2023-11-05T19:15:59.019743Z"
    }
   },
   "id": "272455c00eea0dc5"
  },
  {
   "cell_type": "code",
   "execution_count": 3,
   "outputs": [
    {
     "name": "stderr",
     "output_type": "stream",
     "text": [
      "                                                                                \r"
     ]
    },
    {
     "name": "stdout",
     "output_type": "stream",
     "text": [
      "+-----------+-----+-------------+-----------+\n",
      "|employee_id| name|reports_count|average_age|\n",
      "+-----------+-----+-------------+-----------+\n",
      "|          9|Hercy|            2|         39|\n",
      "+-----------+-----+-------------+-----------+\n"
     ]
    }
   ],
   "source": [
    "# In spark dataframe\n",
    "from pyspark.sql import functions as F\n",
    "\n",
    "employees_df \\\n",
    "    .filter(~F.isnull('reports_to')).groupBy('reports_to') \\\n",
    "    .agg(F.round(F.avg('age'), 0).alias('average_age'), F.count('*').alias('reports_count')) \\\n",
    "    .withColumn('average_age', F.col('average_age').cast('int')) \\\n",
    "    .alias('a') \\\n",
    "    .join(employees_df, F.col('a.reports_to') == employees_df['employee_id'], how='inner') \\\n",
    "    .select('employee_id', 'name', 'reports_count', 'average_age') \\\n",
    "    .orderBy('employee_id')\\\n",
    "    .show()"
   ],
   "metadata": {
    "collapsed": false,
    "ExecuteTime": {
     "end_time": "2023-11-05T19:16:18.418325500Z",
     "start_time": "2023-11-05T19:16:15.018057600Z"
    }
   },
   "id": "ad82e92390320b54"
  },
  {
   "cell_type": "code",
   "execution_count": 4,
   "outputs": [
    {
     "name": "stderr",
     "output_type": "stream",
     "text": [
      "[Stage 10:===>                                                    (1 + 15) / 16]\r"
     ]
    },
    {
     "name": "stdout",
     "output_type": "stream",
     "text": [
      "+-----------+-----+-------------+-----------+\n",
      "|employee_id| name|reports_count|average_age|\n",
      "+-----------+-----+-------------+-----------+\n",
      "|          9|Hercy|            2|         39|\n",
      "+-----------+-----+-------------+-----------+\n"
     ]
    },
    {
     "name": "stderr",
     "output_type": "stream",
     "text": [
      "                                                                                \r"
     ]
    }
   ],
   "source": [
    "# In spark SQL\n",
    "\n",
    "employees_df.createOrReplaceTempView('employees')\n",
    "\n",
    "spark.sql('''\n",
    "select e1.reports_to as employee_id, e2.name, count(e1.reports_to) as reports_count, cast(round(avg(e1.age),0) as int) as average_age\n",
    "from employees e1\n",
    "left join (select name, employee_id from employees) e2\n",
    "on e2.employee_id = e1.reports_to\n",
    "where e1.reports_to is not null\n",
    "group by e1.reports_to, e2.name\n",
    "order by employee_id;\n",
    "''').show()"
   ],
   "metadata": {
    "collapsed": false,
    "ExecuteTime": {
     "end_time": "2023-11-05T19:16:20.340776200Z",
     "start_time": "2023-11-05T19:16:18.403910500Z"
    }
   },
   "id": "2fe1c99da745816"
  },
  {
   "cell_type": "code",
   "execution_count": 5,
   "outputs": [],
   "source": [
    "spark.stop()"
   ],
   "metadata": {
    "collapsed": false,
    "ExecuteTime": {
     "end_time": "2023-11-05T19:16:21.219444600Z",
     "start_time": "2023-11-05T19:16:20.335644700Z"
    }
   },
   "id": "ec50dc0a1908f4c"
  },
  {
   "cell_type": "code",
   "execution_count": 5,
   "outputs": [],
   "source": [],
   "metadata": {
    "collapsed": false,
    "ExecuteTime": {
     "end_time": "2023-11-05T19:16:21.274097500Z",
     "start_time": "2023-11-05T19:16:21.222910400Z"
    }
   },
   "id": "eddcdd1a36c58a96"
  }
 ],
 "metadata": {
  "kernelspec": {
   "display_name": "Python 3",
   "language": "python",
   "name": "python3"
  },
  "language_info": {
   "codemirror_mode": {
    "name": "ipython",
    "version": 2
   },
   "file_extension": ".py",
   "mimetype": "text/x-python",
   "name": "python",
   "nbconvert_exporter": "python",
   "pygments_lexer": "ipython2",
   "version": "2.7.6"
  }
 },
 "nbformat": 4,
 "nbformat_minor": 5
}
