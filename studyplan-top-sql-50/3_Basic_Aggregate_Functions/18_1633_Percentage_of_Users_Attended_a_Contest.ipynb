{
 "cells": [
  {
   "cell_type": "markdown",
   "source": [
    "# [1633. Percentage of Users Attended a Contest](https://leetcode.com/problems/percentage-of-users-attended-a-contest/description/?envType=study-plan-v2&envId=top-sql-50)"
   ],
   "metadata": {
    "collapsed": false
   },
   "id": "cece72bb214bd1a0"
  },
  {
   "cell_type": "markdown",
   "source": [
    "Table: Users\n",
    "\n",
    "<pre>+-------------+---------+\n",
    "| Column Name | Type    |\n",
    "+-------------+---------+\n",
    "| user_id     | int     |\n",
    "| user_name   | varchar |\n",
    "+-------------+---------+</pre>\n",
    "user_id is the primary key (column with unique values) for this table.\n",
    "Each row of this table contains the name and the id of a user.\n",
    " \n",
    "\n",
    "Table: Register\n",
    "\n",
    "<pre>+-------------+---------+\n",
    "| Column Name | Type    |\n",
    "+-------------+---------+\n",
    "| contest_id  | int     |\n",
    "| user_id     | int     |\n",
    "+-------------+---------+</pre>\n",
    "(contest_id, user_id) is the primary key (combination of columns with unique values) for this table.\n",
    "Each row of this table contains the id of a user and the contest they registered into.\n",
    " \n",
    "\n",
    "Write a solution to find the percentage of the users registered in each contest rounded to two decimals.\n",
    "\n",
    "Return the result table ordered by percentage in descending order. In case of a tie, order it by contest_id in ascending order.\n",
    "\n",
    "The result format is in the following example.\n",
    "\n",
    " \n",
    "\n",
    "Example 1:\n",
    "\n",
    "Input: \n",
    "Users table:\n",
    "<pre>+---------+-----------+\n",
    "| user_id | user_name |\n",
    "+---------+-----------+\n",
    "| 6       | Alice     |\n",
    "| 2       | Bob       |\n",
    "| 7       | Alex      |\n",
    "+---------+-----------+</pre>\n",
    "Register table:\n",
    "<pre>+------------+---------+\n",
    "| contest_id | user_id |\n",
    "+------------+---------+\n",
    "| 215        | 6       |\n",
    "| 209        | 2       |\n",
    "| 208        | 2       |\n",
    "| 210        | 6       |\n",
    "| 208        | 6       |\n",
    "| 209        | 7       |\n",
    "| 209        | 6       |\n",
    "| 215        | 7       |\n",
    "| 208        | 7       |\n",
    "| 210        | 2       |\n",
    "| 207        | 2       |\n",
    "| 210        | 7       |\n",
    "+------------+---------+</pre>\n",
    "Output: \n",
    "<pre>+------------+------------+\n",
    "| contest_id | percentage |\n",
    "+------------+------------+\n",
    "| 208        | 100.0      |\n",
    "| 209        | 100.0      |\n",
    "| 210        | 100.0      |\n",
    "| 215        | 66.67      |\n",
    "| 207        | 33.33      |\n",
    "+------------+------------+</pre>\n",
    "Explanation: \n",
    "All the users registered in contests 208, 209, and 210. The percentage is 100% and we sort them in the answer table by contest_id in ascending order.\n",
    "Alice and Alex registered in contest 215 and the percentage is ((2/3) * 100) = 66.67%\n",
    "Bob registered in contest 207 and the percentage is ((1/3) * 100) = 33.33%"
   ],
   "metadata": {
    "collapsed": false
   },
   "id": "2fb392490f5e2fa5"
  },
  {
   "cell_type": "code",
   "execution_count": 1,
   "outputs": [],
   "source": [
    "#pandas schema\n",
    "\n",
    "import pandas as pd\n",
    "\n",
    "data = [[6, 'Alice'], [2, 'Bob'], [7, 'Alex']]\n",
    "users = pd.DataFrame(data, columns=['user_id', 'user_name']).astype({'user_id': 'Int64', 'user_name': 'object'})\n",
    "data = [[215, 6], [209, 2], [208, 2], [210, 6], [208, 6], [209, 7], [209, 6], [215, 7], [208, 7], [210, 2], [207, 2],\n",
    "        [210, 7]]\n",
    "register = pd.DataFrame(data, columns=['contest_id', 'user_id']).astype({'contest_id': 'Int64', 'user_id': 'Int64'})"
   ],
   "metadata": {
    "collapsed": false,
    "ExecuteTime": {
     "end_time": "2023-11-09T17:07:09.722388800Z",
     "start_time": "2023-11-09T17:07:09.441343600Z"
    }
   },
   "id": "12a9f589a4e74d0f"
  },
  {
   "cell_type": "code",
   "execution_count": 2,
   "outputs": [
    {
     "name": "stderr",
     "output_type": "stream",
     "text": [
      "bash: warning: setlocale: LC_ALL: cannot change locale (en_US.UTF-8)\n",
      "bash: warning: setlocale: LC_ALL: cannot change locale (en_US.UTF-8)\n",
      "23/11/09 11:06:41 WARN Utils: Your hostname, svchost resolves to a loopback address: 127.0.1.1; using 172.18.28.34 instead (on interface eth0)\n",
      "23/11/09 11:06:41 WARN Utils: Set SPARK_LOCAL_IP if you need to bind to another address\n",
      "Setting default log level to \"WARN\".\n",
      "To adjust logging level use sc.setLogLevel(newLevel). For SparkR, use setLogLevel(newLevel).\n",
      "23/11/09 11:06:43 WARN NativeCodeLoader: Unable to load native-hadoop library for your platform... using builtin-java classes where applicable\n",
      "                                                                                \r"
     ]
    },
    {
     "name": "stdout",
     "output_type": "stream",
     "text": [
      "+-------+---------+\n",
      "|user_id|user_name|\n",
      "+-------+---------+\n",
      "|6      |Alice    |\n",
      "|2      |Bob      |\n",
      "|7      |Alex     |\n",
      "+-------+---------+\n"
     ]
    }
   ],
   "source": [
    "# to spark dataframe\n",
    "\n",
    "from pyspark.sql import SparkSession\n",
    "import pyspark.sql.functions as F\n",
    "\n",
    "spark = SparkSession.builder.getOrCreate()\n",
    "\n",
    "users_df = spark.createDataFrame(users)\n",
    "users_df.show(truncate=False)"
   ],
   "metadata": {
    "collapsed": false,
    "ExecuteTime": {
     "end_time": "2023-11-09T17:07:19.354672300Z",
     "start_time": "2023-11-09T17:07:09.725389600Z"
    }
   },
   "id": "ca3231939184aca4"
  },
  {
   "cell_type": "code",
   "execution_count": 3,
   "outputs": [
    {
     "name": "stdout",
     "output_type": "stream",
     "text": [
      "+----------+-------+\n",
      "|contest_id|user_id|\n",
      "+----------+-------+\n",
      "|215       |6      |\n",
      "|209       |2      |\n",
      "|208       |2      |\n",
      "|210       |6      |\n",
      "|208       |6      |\n",
      "|209       |7      |\n",
      "|209       |6      |\n",
      "|215       |7      |\n",
      "|208       |7      |\n",
      "|210       |2      |\n",
      "|207       |2      |\n",
      "|210       |7      |\n",
      "+----------+-------+\n"
     ]
    }
   ],
   "source": [
    "register_df = spark.createDataFrame(register)\n",
    "register_df.show(truncate=False)"
   ],
   "metadata": {
    "collapsed": false,
    "ExecuteTime": {
     "end_time": "2023-11-09T17:07:20.119465400Z",
     "start_time": "2023-11-09T17:07:19.354672300Z"
    }
   },
   "id": "25e5f0439956b7c7"
  },
  {
   "cell_type": "code",
   "execution_count": 4,
   "outputs": [
    {
     "name": "stdout",
     "output_type": "stream",
     "text": [
      "+----------+----------+\n",
      "|contest_id|percentage|\n",
      "+----------+----------+\n",
      "|       208|     100.0|\n",
      "|       209|     100.0|\n",
      "|       210|     100.0|\n",
      "|       215|     66.67|\n",
      "|       207|     33.33|\n",
      "+----------+----------+\n"
     ]
    }
   ],
   "source": [
    "# solving using spark dataframe\n",
    "\n",
    "register_df\\\n",
    "        .join(users_df,on=['user_id'],how='inner')\\\n",
    "        .groupBy('contest_id').agg(F.count('user_id').alias('users_count'))\\\n",
    "        .withColumn('percentage',F.round(100*F.col('users_count')/users_df.count(),2))\\\n",
    "        .drop('users_count')\\\n",
    "        .orderBy(F.col('percentage').desc(), 'contest_id')\\\n",
    "        .show()"
   ],
   "metadata": {
    "collapsed": false,
    "ExecuteTime": {
     "end_time": "2023-11-09T17:07:22.684941700Z",
     "start_time": "2023-11-09T17:07:20.119465400Z"
    }
   },
   "id": "800adb8e51bbb459"
  },
  {
   "cell_type": "code",
   "execution_count": 5,
   "outputs": [
    {
     "name": "stderr",
     "output_type": "stream",
     "text": [
      "[Stage 19:=================>                                      (5 + 11) / 16]\r"
     ]
    },
    {
     "name": "stdout",
     "output_type": "stream",
     "text": [
      "+----------+----------+\n",
      "|contest_id|percentage|\n",
      "+----------+----------+\n",
      "|       208|     100.0|\n",
      "|       209|     100.0|\n",
      "|       210|     100.0|\n",
      "|       215|     66.67|\n",
      "|       207|     33.33|\n",
      "+----------+----------+\n"
     ]
    },
    {
     "name": "stderr",
     "output_type": "stream",
     "text": [
      "                                                                                \r"
     ]
    }
   ],
   "source": [
    "# solving in spark sql\n",
    "\n",
    "users_df.createOrReplaceTempView('users')\n",
    "register_df.createOrReplaceTempView('register')\n",
    "\n",
    "spark.sql('''\n",
    "select \n",
    "        contest_id, \n",
    "        round(100*count(register.user_id)/(select count(user_id) from users),2) as percentage\n",
    "from register \n",
    "inner join users\n",
    "on register.user_id = users.user_id\n",
    "group by contest_id\n",
    "order by percentage desc, contest_id asc;\n",
    "''').show()"
   ],
   "metadata": {
    "collapsed": false,
    "ExecuteTime": {
     "end_time": "2023-11-09T17:07:24.340656800Z",
     "start_time": "2023-11-09T17:07:22.683958100Z"
    }
   },
   "id": "dea0576e655cbf84"
  },
  {
   "cell_type": "code",
   "execution_count": 6,
   "outputs": [],
   "source": [
    "spark.stop()"
   ],
   "metadata": {
    "collapsed": false,
    "ExecuteTime": {
     "end_time": "2023-11-09T17:07:25.254497700Z",
     "start_time": "2023-11-09T17:07:24.346540900Z"
    }
   },
   "id": "c3176b4d434e801"
  }
 ],
 "metadata": {
  "kernelspec": {
   "display_name": "Python 3",
   "language": "python",
   "name": "python3"
  },
  "language_info": {
   "codemirror_mode": {
    "name": "ipython",
    "version": 2
   },
   "file_extension": ".py",
   "mimetype": "text/x-python",
   "name": "python",
   "nbconvert_exporter": "python",
   "pygments_lexer": "ipython2",
   "version": "2.7.6"
  }
 },
 "nbformat": 4,
 "nbformat_minor": 5
}
