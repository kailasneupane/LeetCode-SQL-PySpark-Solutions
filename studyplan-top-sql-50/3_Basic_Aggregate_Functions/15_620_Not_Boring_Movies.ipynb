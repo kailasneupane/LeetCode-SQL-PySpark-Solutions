{
 "cells": [
  {
   "cell_type": "markdown",
   "source": [
    "# [620. Not Boring Movies](https://leetcode.com/problems/not-boring-movies/description/?envType=study-plan-v2&envId=top-sql-50)"
   ],
   "metadata": {
    "collapsed": false
   },
   "id": "8d805f705da1b4ee"
  },
  {
   "cell_type": "markdown",
   "source": [
    "Table: Cinema\n",
    "\n",
    "<pre>+----------------+----------+\n",
    "| Column Name    | Type     |\n",
    "+----------------+----------+\n",
    "| id             | int      |\n",
    "| movie          | varchar  |\n",
    "| description    | varchar  |\n",
    "| rating         | float    |\n",
    "+----------------+----------+</pre>\n",
    "id is the primary key (column with unique values) for this table.\n",
    "Each row contains information about the name of a movie, its genre, and its rating.\n",
    "rating is a 2 decimal places float in the range [0, 10]\n",
    " \n",
    "\n",
    "Write a solution to report the movies with an odd-numbered ID and a description that is not \"boring\".\n",
    "\n",
    "Return the result table ordered by rating in descending order.\n",
    "\n",
    "The result format is in the following example.\n",
    "\n",
    " \n",
    "\n",
    "Example 1:\n",
    "\n",
    "Input: \n",
    "Cinema table:\n",
    "<pre>+----+------------+-------------+--------+\n",
    "| id | movie      | description | rating |\n",
    "+----+------------+-------------+--------+\n",
    "| 1  | War        | great 3D    | 8.9    |\n",
    "| 2  | Science    | fiction     | 8.5    |\n",
    "| 3  | irish      | boring      | 6.2    |\n",
    "| 4  | Ice song   | Fantacy     | 8.6    |\n",
    "| 5  | House card | Interesting | 9.1    |\n",
    "+----+------------+-------------+--------+</pre>\n",
    "Output: \n",
    "<pre>+----+------------+-------------+--------+\n",
    "| id | movie      | description | rating |\n",
    "+----+------------+-------------+--------+\n",
    "| 5  | House card | Interesting | 9.1    |\n",
    "| 1  | War        | great 3D    | 8.9    |\n",
    "+----+------------+-------------+--------+</pre>\n",
    "Explanation: \n",
    "We have three movies with odd-numbered IDs: 1, 3, and 5. The movie with ID = 3 is boring so we do not include it in the answer."
   ],
   "metadata": {
    "collapsed": false
   },
   "id": "93d3828809c67007"
  },
  {
   "cell_type": "code",
   "execution_count": 1,
   "outputs": [],
   "source": [
    "# Pandas schema\n",
    "\n",
    "import pandas as pd\n",
    "\n",
    "data = [[1, 'War', 'great 3D', 8.9], [2, 'Science', 'fiction', 8.5], [3, 'irish', 'boring', 6.2],\n",
    "        [4, 'Ice song', 'Fantacy', 8.6], [5, 'House card', 'Interesting', 9.1]]\n",
    "cinema = pd.DataFrame(data, columns=['id', 'movie', 'description', 'rating']).astype(\n",
    "    {'id': 'Int64', 'movie': 'object', 'description': 'object', 'rating': 'Float64'})"
   ],
   "metadata": {
    "collapsed": false,
    "ExecuteTime": {
     "end_time": "2023-11-07T12:52:53.806517900Z",
     "start_time": "2023-11-07T12:52:52.879643400Z"
    }
   },
   "id": "c2e05d87794e5fa3"
  },
  {
   "cell_type": "code",
   "execution_count": 2,
   "outputs": [
    {
     "name": "stderr",
     "output_type": "stream",
     "text": [
      "bash: warning: setlocale: LC_ALL: cannot change locale (en_US.UTF-8)\n",
      "bash: warning: setlocale: LC_ALL: cannot change locale (en_US.UTF-8)\n",
      "23/11/06 17:34:43 WARN Utils: Your hostname, svchost resolves to a loopback address: 127.0.1.1; using 172.18.28.34 instead (on interface eth0)\n",
      "23/11/06 17:34:43 WARN Utils: Set SPARK_LOCAL_IP if you need to bind to another address\n",
      "Setting default log level to \"WARN\".\n",
      "To adjust logging level use sc.setLogLevel(newLevel). For SparkR, use setLogLevel(newLevel).\n",
      "23/11/06 17:34:46 WARN NativeCodeLoader: Unable to load native-hadoop library for your platform... using builtin-java classes where applicable\n",
      "                                                                                \r"
     ]
    },
    {
     "name": "stdout",
     "output_type": "stream",
     "text": [
      "+---+----------+-----------+------+\n",
      "|id |movie     |description|rating|\n",
      "+---+----------+-----------+------+\n",
      "|1  |War       |great 3D   |8.9   |\n",
      "|2  |Science   |fiction    |8.5   |\n",
      "|3  |irish     |boring     |6.2   |\n",
      "|4  |Ice song  |Fantacy    |8.6   |\n",
      "|5  |House card|Interesting|9.1   |\n",
      "+---+----------+-----------+------+\n"
     ]
    }
   ],
   "source": [
    "#to pyspark df\n",
    "\n",
    "from pyspark.sql import SparkSession\n",
    "\n",
    "spark = SparkSession.builder.getOrCreate()\n",
    "\n",
    "cinema_df = spark.createDataFrame(cinema)\n",
    "cinema_df.show(truncate=False)"
   ],
   "metadata": {
    "collapsed": false,
    "ExecuteTime": {
     "end_time": "2023-11-07T12:53:11.989547500Z",
     "start_time": "2023-11-07T12:52:53.805365800Z"
    }
   },
   "id": "e4bad19f122163a6"
  },
  {
   "cell_type": "code",
   "execution_count": 3,
   "outputs": [
    {
     "name": "stdout",
     "output_type": "stream",
     "text": [
      "+---+----------+-----------+------+\n",
      "| id|     movie|description|rating|\n",
      "+---+----------+-----------+------+\n",
      "|  5|House card|Interesting|   9.1|\n",
      "|  1|       War|   great 3D|   8.9|\n",
      "+---+----------+-----------+------+\n"
     ]
    },
    {
     "name": "stderr",
     "output_type": "stream",
     "text": [
      "                                                                                \r"
     ]
    }
   ],
   "source": [
    "# spark df solution\n",
    "import pyspark.sql.functions as F\n",
    "\n",
    "cinema_df.\\\n",
    "    filter(~(F.col('description')=='boring') & (F.col('id')%2!=0))\\\n",
    "    .orderBy(F.col('rating').desc())\\\n",
    "    .show()"
   ],
   "metadata": {
    "collapsed": false,
    "ExecuteTime": {
     "end_time": "2023-11-07T12:53:13.199990300Z",
     "start_time": "2023-11-07T12:53:11.989547500Z"
    }
   },
   "id": "edded0eb2e4f5b9c"
  },
  {
   "cell_type": "code",
   "execution_count": 4,
   "outputs": [
    {
     "name": "stdout",
     "output_type": "stream",
     "text": [
      "+---+----------+-----------+------+\n",
      "| id|     movie|description|rating|\n",
      "+---+----------+-----------+------+\n",
      "|  5|House card|Interesting|   9.1|\n",
      "|  1|       War|   great 3D|   8.9|\n",
      "+---+----------+-----------+------+\n"
     ]
    }
   ],
   "source": [
    "# spark SQL solution\n",
    "\n",
    "cinema_df.createOrReplaceTempView('cinema')\n",
    "\n",
    "spark.sql('''\n",
    "select *\n",
    "from cinema\n",
    "where description!='boring' and id%2!=0\n",
    "order by rating desc;\n",
    "''').show()"
   ],
   "metadata": {
    "collapsed": false,
    "ExecuteTime": {
     "end_time": "2023-11-07T12:53:14.152309300Z",
     "start_time": "2023-11-07T12:53:13.197309100Z"
    }
   },
   "id": "9fd3fa19b8f00e4a"
  },
  {
   "cell_type": "code",
   "execution_count": 5,
   "outputs": [],
   "source": [
    "spark.stop()"
   ],
   "metadata": {
    "collapsed": false,
    "ExecuteTime": {
     "end_time": "2023-11-07T12:53:15.054333800Z",
     "start_time": "2023-11-07T12:53:14.141709800Z"
    }
   },
   "id": "d03ebfb6b78c3a2"
  },
  {
   "cell_type": "code",
   "execution_count": 5,
   "outputs": [],
   "source": [],
   "metadata": {
    "collapsed": false,
    "ExecuteTime": {
     "end_time": "2023-11-07T12:53:15.114182800Z",
     "start_time": "2023-11-07T12:53:15.053345100Z"
    }
   },
   "id": "f97cd4baa7e6bdbe"
  }
 ],
 "metadata": {
  "kernelspec": {
   "display_name": "Python 3",
   "language": "python",
   "name": "python3"
  },
  "language_info": {
   "codemirror_mode": {
    "name": "ipython",
    "version": 2
   },
   "file_extension": ".py",
   "mimetype": "text/x-python",
   "name": "python",
   "nbconvert_exporter": "python",
   "pygments_lexer": "ipython2",
   "version": "2.7.6"
  }
 },
 "nbformat": 4,
 "nbformat_minor": 5
}
