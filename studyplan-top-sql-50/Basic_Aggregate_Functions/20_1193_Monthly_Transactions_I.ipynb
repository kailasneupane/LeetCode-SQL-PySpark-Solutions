{
 "cells": [
  {
   "cell_type": "markdown",
   "source": [
    "# [1193. Monthly Transactions I](https://leetcode.com/problems/monthly-transactions-i/description/?envType=study-plan-v2&envId=top-sql-50)"
   ],
   "metadata": {
    "collapsed": false
   },
   "id": "e85adaa18e408155"
  },
  {
   "cell_type": "markdown",
   "source": [
    "Table: Transactions\n",
    "\n",
    "<pre>+---------------+---------+\n",
    "| Column Name   | Type    |\n",
    "+---------------+---------+\n",
    "| id            | int     |\n",
    "| country       | varchar |\n",
    "| state         | enum    |\n",
    "| amount        | int     |\n",
    "| trans_date    | date    |\n",
    "+---------------+---------+</pre>\n",
    "id is the primary key of this table.\n",
    "The table has information about incoming transactions.\n",
    "The state column is an enum of type (\"approved\", \"declined\").\n",
    " \n",
    "\n",
    "Write an SQL query to find for each month and country, the number of transactions and their total amount, the number of approved transactions and their total amount.\n",
    "\n",
    "Return the result table in any order.\n",
    "\n",
    "The query result format is in the following example.\n",
    "\n",
    " \n",
    "\n",
    "Example 1:\n",
    "\n",
    "Input: \n",
    "Transactions table:\n",
    "<pre>+------+---------+----------+--------+------------+\n",
    "| id   | country | state    | amount | trans_date |\n",
    "+------+---------+----------+--------+------------+\n",
    "| 121  | US      | approved | 1000   | 2018-12-18 |\n",
    "| 122  | US      | declined | 2000   | 2018-12-19 |\n",
    "| 123  | US      | approved | 2000   | 2019-01-01 |\n",
    "| 124  | DE      | approved | 2000   | 2019-01-07 |\n",
    "+------+---------+----------+--------+------------+</pre>\n",
    "Output: \n",
    "<pre>+----------+---------+-------------+----------------+--------------------+-----------------------+\n",
    "| month    | country | trans_count | approved_count | trans_total_amount | approved_total_amount |\n",
    "+----------+---------+-------------+----------------+--------------------+-----------------------+\n",
    "| 2018-12  | US      | 2           | 1              | 3000               | 1000                  |\n",
    "| 2019-01  | US      | 1           | 1              | 2000               | 2000                  |\n",
    "| 2019-01  | DE      | 1           | 1              | 2000               | 2000                  |\n",
    "+----------+---------+-------------+----------------+--------------------+-----------------------+</pre>"
   ],
   "metadata": {
    "collapsed": false
   },
   "id": "10c32a7d2fd2122d"
  },
  {
   "cell_type": "code",
   "execution_count": 1,
   "outputs": [],
   "source": [
    "# pandas schema\n",
    "\n",
    "import pandas as pd\n",
    "\n",
    "data = [[121, 'US', 'approved', 1000, '2018-12-18'], [122, 'US', 'declined', 2000, '2018-12-19'],\n",
    "        [123, 'US', 'approved', 2000, '2019-01-01'], [124, 'DE', 'approved', 2000, '2019-01-07']]\n",
    "transactions = pd.DataFrame(data, columns=['id', 'country', 'state', 'amount', 'trans_date']).astype(\n",
    "    {'id': 'Int64', 'country': 'object', 'state': 'object', 'amount': 'Int64', 'trans_date': 'datetime64[ns]'})"
   ],
   "metadata": {
    "collapsed": false,
    "ExecuteTime": {
     "end_time": "2023-11-10T02:37:54.361594300Z",
     "start_time": "2023-11-10T02:37:53.991402700Z"
    }
   },
   "id": "cd58cada60941aeb"
  },
  {
   "cell_type": "code",
   "execution_count": 2,
   "outputs": [
    {
     "name": "stderr",
     "output_type": "stream",
     "text": [
      "bash: warning: setlocale: LC_ALL: cannot change locale (en_US.UTF-8)\n",
      "bash: warning: setlocale: LC_ALL: cannot change locale (en_US.UTF-8)\n",
      "23/11/09 13:47:43 WARN Utils: Your hostname, svchost resolves to a loopback address: 127.0.1.1; using 172.18.28.34 instead (on interface eth0)\n",
      "23/11/09 13:47:43 WARN Utils: Set SPARK_LOCAL_IP if you need to bind to another address\n",
      "Setting default log level to \"WARN\".\n",
      "To adjust logging level use sc.setLogLevel(newLevel). For SparkR, use setLogLevel(newLevel).\n",
      "23/11/09 13:47:45 WARN NativeCodeLoader: Unable to load native-hadoop library for your platform... using builtin-java classes where applicable\n",
      "                                                                                \r"
     ]
    },
    {
     "name": "stdout",
     "output_type": "stream",
     "text": [
      "+---+-------+--------+------+-------------------+\n",
      "|id |country|state   |amount|trans_date         |\n",
      "+---+-------+--------+------+-------------------+\n",
      "|121|US     |approved|1000  |2018-12-18 00:00:00|\n",
      "|122|US     |declined|2000  |2018-12-19 00:00:00|\n",
      "|123|US     |approved|2000  |2019-01-01 00:00:00|\n",
      "|124|DE     |approved|2000  |2019-01-07 00:00:00|\n",
      "+---+-------+--------+------+-------------------+\n"
     ]
    }
   ],
   "source": [
    "# to spark dataframe\n",
    "\n",
    "from pyspark.sql import SparkSession\n",
    "\n",
    "spark = SparkSession.builder.getOrCreate()\n",
    "\n",
    "transactions_df = spark.createDataFrame(transactions)\n",
    "transactions_df.show(truncate=False)"
   ],
   "metadata": {
    "collapsed": false,
    "ExecuteTime": {
     "end_time": "2023-11-10T02:38:06.160367Z",
     "start_time": "2023-11-10T02:37:54.360883600Z"
    }
   },
   "id": "e71d35e076f848c"
  },
  {
   "cell_type": "code",
   "execution_count": 3,
   "outputs": [
    {
     "name": "stderr",
     "output_type": "stream",
     "text": [
      "[Stage 3:>                                                        (0 + 16) / 16]\r"
     ]
    },
    {
     "name": "stdout",
     "output_type": "stream",
     "text": [
      "+-------+-------+-----------+--------------+------------------+---------------------+\n",
      "|  month|country|trans_count|approved_count|trans_total_amount|approved_total_amount|\n",
      "+-------+-------+-----------+--------------+------------------+---------------------+\n",
      "|2018-12|     US|          2|             1|              3000|                 1000|\n",
      "|2019-01|     US|          1|             1|              2000|                 2000|\n",
      "|2019-01|     DE|          1|             1|              2000|                 2000|\n",
      "+-------+-------+-----------+--------------+------------------+---------------------+\n"
     ]
    },
    {
     "name": "stderr",
     "output_type": "stream",
     "text": [
      "                                                                                \r"
     ]
    }
   ],
   "source": [
    "# solving in spark dataframe\n",
    "import pyspark.sql.functions as F\n",
    "\n",
    "transactions_df.withColumn('month', F.substring('trans_date', 0, 7)) \\\n",
    "    .groupBy('month', 'country') \\\n",
    "    .agg(\n",
    "    F.count('id').alias('trans_count') \\\n",
    "    , F.sum(F.when(F.col('state') == 'approved', 1).otherwise(0)).alias('approved_count') \\\n",
    "    , F.sum('amount').alias('trans_total_amount') \\\n",
    "    , F.sum(F.when(F.col('state') == 'approved', F.col('amount')).otherwise(0)).alias('approved_total_amount') \\\n",
    "    ) \\\n",
    "    .show()"
   ],
   "metadata": {
    "collapsed": false,
    "ExecuteTime": {
     "end_time": "2023-11-10T02:38:08.137544300Z",
     "start_time": "2023-11-10T02:38:06.159355300Z"
    }
   },
   "id": "aaaa1d5986bdcb82"
  },
  {
   "cell_type": "code",
   "execution_count": 4,
   "outputs": [
    {
     "name": "stdout",
     "output_type": "stream",
     "text": [
      "+-------+-------+-----------+--------------+------------------+---------------------+\n",
      "|  month|country|trans_count|approved_count|trans_total_amount|approved_total_amount|\n",
      "+-------+-------+-----------+--------------+------------------+---------------------+\n",
      "|2018-12|     US|          2|             1|              3000|                 1000|\n",
      "|2019-01|     US|          1|             1|              2000|                 2000|\n",
      "|2019-01|     DE|          1|             1|              2000|                 2000|\n",
      "+-------+-------+-----------+--------------+------------------+---------------------+\n"
     ]
    }
   ],
   "source": [
    "# solving in spark SQL\n",
    "\n",
    "transactions_df.createOrReplaceTempView('transactions')\n",
    "\n",
    "spark.sql('''\n",
    "select \n",
    "    left(trans_date,7) as month,\n",
    "    country,\n",
    "    count(id) as trans_count,\n",
    "    sum(case when state='approved' then 1 else 0 end) as approved_count,\n",
    "    sum(amount) as trans_total_amount,\n",
    "    sum(case when state='approved' then amount else 0 end) as approved_total_amount\n",
    "from transactions\n",
    "group by month, country;\n",
    "''').show()"
   ],
   "metadata": {
    "collapsed": false,
    "ExecuteTime": {
     "end_time": "2023-11-10T02:38:09.196288300Z",
     "start_time": "2023-11-10T02:38:08.120025500Z"
    }
   },
   "id": "cdd19f0902325721"
  },
  {
   "cell_type": "code",
   "execution_count": 5,
   "outputs": [],
   "source": [
    "spark.stop()"
   ],
   "metadata": {
    "collapsed": false,
    "ExecuteTime": {
     "end_time": "2023-11-10T02:38:10.097701500Z",
     "start_time": "2023-11-10T02:38:09.184975700Z"
    }
   },
   "id": "f6a8d584a3bcd235"
  }
 ],
 "metadata": {
  "kernelspec": {
   "display_name": "Python 3",
   "language": "python",
   "name": "python3"
  },
  "language_info": {
   "codemirror_mode": {
    "name": "ipython",
    "version": 2
   },
   "file_extension": ".py",
   "mimetype": "text/x-python",
   "name": "python",
   "nbconvert_exporter": "python",
   "pygments_lexer": "ipython2",
   "version": "2.7.6"
  }
 },
 "nbformat": 4,
 "nbformat_minor": 5
}
