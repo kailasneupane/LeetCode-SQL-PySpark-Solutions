{
 "cells": [
  {
   "cell_type": "markdown",
   "source": [
    "# [1527. Patients With a Condition](https://leetcode.com/problems/patients-with-a-condition/description/?envType=study-plan-v2&envId=top-sql-50)"
   ],
   "metadata": {
    "collapsed": false
   },
   "id": "e16fc8d518c6a65"
  },
  {
   "cell_type": "markdown",
   "source": [
    "Table: Patients\n",
    "\n",
    "<pre>+--------------+---------+\n",
    "| Column Name  | Type    |\n",
    "+--------------+---------+\n",
    "| patient_id   | int     |\n",
    "| patient_name | varchar |\n",
    "| conditions   | varchar |\n",
    "+--------------+---------+</pre>\n",
    "patient_id is the primary key (column with unique values) for this table.\n",
    "'conditions' contains 0 or more code separated by spaces. \n",
    "This table contains information of the patients in the hospital.\n",
    " \n",
    "\n",
    "Write a solution to find the patient_id, patient_name, and conditions of the patients who have Type I Diabetes. Type I Diabetes always starts with DIAB1 prefix.\n",
    "\n",
    "Return the result table in any order.\n",
    "\n",
    "The result format is in the following example.\n",
    "\n",
    " \n",
    "\n",
    "Example 1:\n",
    "\n",
    "Input: \n",
    "Patients table:\n",
    "<pre>+------------+--------------+--------------+\n",
    "| patient_id | patient_name | conditions   |\n",
    "+------------+--------------+--------------+\n",
    "| 1          | Daniel       | YFEV COUGH   |\n",
    "| 2          | Alice        |              |\n",
    "| 3          | Bob          | DIAB100 MYOP |\n",
    "| 4          | George       | ACNE DIAB100 |\n",
    "| 5          | Alain        | DIAB201      |\n",
    "+------------+--------------+--------------+</pre>\n",
    "Output: \n",
    "<pre>+------------+--------------+--------------+\n",
    "| patient_id | patient_name | conditions   |\n",
    "+------------+--------------+--------------+\n",
    "| 3          | Bob          | DIAB100 MYOP |\n",
    "| 4          | George       | ACNE DIAB100 | \n",
    "+------------+--------------+--------------+</pre>\n",
    "Explanation: Bob and George both have a condition that starts with DIAB1."
   ],
   "metadata": {
    "collapsed": false
   },
   "id": "a7d38671b092532a"
  },
  {
   "cell_type": "code",
   "execution_count": 1,
   "outputs": [],
   "source": [
    "# pandas schema\n",
    "\n",
    "import pandas as pd\n",
    "\n",
    "data = [[1, 'Daniel', 'YFEV COUGH'], [2, 'Alice', ''], [3, 'Bob', 'DIAB100 MYOP'], [4, 'George', 'ACNE DIAB100'],\n",
    "        [5, 'Alain', 'DIAB201']]\n",
    "patients = pd.DataFrame(data, columns=['patient_id', 'patient_name', 'conditions']).astype(\n",
    "    {'patient_id': 'int64', 'patient_name': 'object', 'conditions': 'object'})"
   ],
   "metadata": {
    "collapsed": false,
    "ExecuteTime": {
     "end_time": "2023-11-12T01:34:19.682493400Z",
     "start_time": "2023-11-12T01:34:19.345318500Z"
    }
   },
   "id": "d1ccb1432266f6e1"
  },
  {
   "cell_type": "code",
   "execution_count": 2,
   "outputs": [
    {
     "name": "stderr",
     "output_type": "stream",
     "text": [
      "bash: warning: setlocale: LC_ALL: cannot change locale (en_US.UTF-8)\n",
      "bash: warning: setlocale: LC_ALL: cannot change locale (en_US.UTF-8)\n",
      "23/11/11 19:28:13 WARN Utils: Your hostname, svchost resolves to a loopback address: 127.0.1.1; using 172.18.28.34 instead (on interface eth0)\n",
      "23/11/11 19:28:13 WARN Utils: Set SPARK_LOCAL_IP if you need to bind to another address\n",
      "Setting default log level to \"WARN\".\n",
      "To adjust logging level use sc.setLogLevel(newLevel). For SparkR, use setLogLevel(newLevel).\n",
      "23/11/11 19:28:15 WARN NativeCodeLoader: Unable to load native-hadoop library for your platform... using builtin-java classes where applicable\n",
      "                                                                                \r"
     ]
    },
    {
     "name": "stdout",
     "output_type": "stream",
     "text": [
      "+----------+------------+------------+\n",
      "|patient_id|patient_name|conditions  |\n",
      "+----------+------------+------------+\n",
      "|1         |Daniel      |YFEV COUGH  |\n",
      "|2         |Alice       |            |\n",
      "|3         |Bob         |DIAB100 MYOP|\n",
      "|4         |George      |ACNE DIAB100|\n",
      "|5         |Alain       |DIAB201     |\n",
      "+----------+------------+------------+\n"
     ]
    }
   ],
   "source": [
    "# to spark dataframe\n",
    "\n",
    "import pyspark.sql.functions as F\n",
    "from pyspark.sql import SparkSession\n",
    "\n",
    "spark = SparkSession.builder.getOrCreate()\n",
    "\n",
    "patients_df = spark.createDataFrame(patients)\n",
    "patients_df.show(truncate=False)"
   ],
   "metadata": {
    "collapsed": false,
    "ExecuteTime": {
     "end_time": "2023-11-12T01:34:31.209567600Z",
     "start_time": "2023-11-12T01:34:19.687325800Z"
    }
   },
   "id": "8939b6575d45e5ed"
  },
  {
   "cell_type": "code",
   "execution_count": 3,
   "outputs": [
    {
     "name": "stdout",
     "output_type": "stream",
     "text": [
      "+----------+------------+------------+\n",
      "|patient_id|patient_name|  conditions|\n",
      "+----------+------------+------------+\n",
      "|         3|         Bob|DIAB100 MYOP|\n",
      "|         4|      George|ACNE DIAB100|\n",
      "+----------+------------+------------+\n"
     ]
    }
   ],
   "source": [
    "# solving in spark dataframe\n",
    "\n",
    "patients_df \\\n",
    "    .filter(\n",
    "    (F.col('conditions').contains(' DIAB1'))\n",
    "    |\n",
    "    (F.col('conditions').startswith('DIAB1'))\n",
    ").show()"
   ],
   "metadata": {
    "collapsed": false,
    "ExecuteTime": {
     "end_time": "2023-11-12T01:34:32.027009600Z",
     "start_time": "2023-11-12T01:34:31.208977300Z"
    }
   },
   "id": "506efe417a19bfe"
  },
  {
   "cell_type": "code",
   "execution_count": 4,
   "outputs": [
    {
     "name": "stdout",
     "output_type": "stream",
     "text": [
      "+----------+------------+------------+\n",
      "|patient_id|patient_name|  conditions|\n",
      "+----------+------------+------------+\n",
      "|         3|         Bob|DIAB100 MYOP|\n",
      "|         4|      George|ACNE DIAB100|\n",
      "+----------+------------+------------+\n"
     ]
    }
   ],
   "source": [
    "# solving in spark sql\n",
    "\n",
    "patients_df.createOrReplaceTempView('patients')\n",
    "\n",
    "spark.sql('''\n",
    "select * \n",
    "from patients\n",
    "where conditions like 'DIAB1%' or conditions like '% DIAB1%';\n",
    "''').show()"
   ],
   "metadata": {
    "collapsed": false,
    "ExecuteTime": {
     "end_time": "2023-11-12T01:34:32.895709100Z",
     "start_time": "2023-11-12T01:34:32.025995400Z"
    }
   },
   "id": "4a5b4a23ec2194a3"
  },
  {
   "cell_type": "code",
   "execution_count": 5,
   "outputs": [],
   "source": [
    "spark.stop()"
   ],
   "metadata": {
    "collapsed": false,
    "ExecuteTime": {
     "end_time": "2023-11-12T01:34:33.800618400Z",
     "start_time": "2023-11-12T01:34:32.892096500Z"
    }
   },
   "id": "18595680abccd3fe"
  }
 ],
 "metadata": {
  "kernelspec": {
   "display_name": "Python 3",
   "language": "python",
   "name": "python3"
  },
  "language_info": {
   "codemirror_mode": {
    "name": "ipython",
    "version": 2
   },
   "file_extension": ".py",
   "mimetype": "text/x-python",
   "name": "python",
   "nbconvert_exporter": "python",
   "pygments_lexer": "ipython2",
   "version": "2.7.6"
  }
 },
 "nbformat": 4,
 "nbformat_minor": 5
}
