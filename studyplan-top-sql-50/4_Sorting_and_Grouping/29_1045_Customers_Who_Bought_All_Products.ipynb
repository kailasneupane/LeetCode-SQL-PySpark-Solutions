{
 "cells": [
  {
   "cell_type": "markdown",
   "source": [
    "# [1045. Customers Who Bought All Products](https://leetcode.com/problems/customers-who-bought-all-products/description/?envType=study-plan-v2&envId=top-sql-50)"
   ],
   "metadata": {
    "collapsed": false
   },
   "id": "965b266dd1b618bd"
  },
  {
   "cell_type": "markdown",
   "source": [
    "Table: Customer\n",
    "\n",
    "<pre>+-------------+---------+\n",
    "| Column Name | Type    |\n",
    "+-------------+---------+\n",
    "| customer_id | int     |\n",
    "| product_key | int     |\n",
    "+-------------+---------+</pre>\n",
    "This table may contain duplicates rows. \n",
    "customer_id is not NULL.\n",
    "product_key is a foreign key (reference column) to Product table.\n",
    " \n",
    "\n",
    "Table: Product\n",
    "\n",
    "<pre>+-------------+---------+\n",
    "| Column Name | Type    |\n",
    "+-------------+---------+\n",
    "| product_key | int     |\n",
    "+-------------+---------+</pre>\n",
    "product_key is the primary key (column with unique values) for this table.\n",
    " \n",
    "\n",
    "Write a solution to report the customer ids from the Customer table that bought all the products in the Product table.\n",
    "\n",
    "Return the result table in any order.\n",
    "\n",
    "The result format is in the following example.\n",
    "\n",
    " \n",
    "\n",
    "Example 1:\n",
    "\n",
    "Input: \n",
    "Customer table:\n",
    "<pre>+-------------+-------------+\n",
    "| customer_id | product_key |\n",
    "+-------------+-------------+\n",
    "| 1           | 5           |\n",
    "| 2           | 6           |\n",
    "| 3           | 5           |\n",
    "| 3           | 6           |\n",
    "| 1           | 6           |\n",
    "+-------------+-------------+</pre>\n",
    "Product table:\n",
    "<pre>+-------------+\n",
    "| product_key |\n",
    "+-------------+\n",
    "| 5           |\n",
    "| 6           |\n",
    "+-------------+</pre>\n",
    "Output: \n",
    "<pre>+-------------+\n",
    "| customer_id |\n",
    "+-------------+\n",
    "| 1           |\n",
    "| 3           |\n",
    "+-------------+</pre>\n",
    "Explanation: \n",
    "The customers who bought all the products (5 and 6) are customers with IDs 1 and 3."
   ],
   "metadata": {
    "collapsed": false
   },
   "id": "947a87d63bb19132"
  },
  {
   "cell_type": "code",
   "execution_count": 1,
   "outputs": [],
   "source": [
    "# pandas schema\n",
    "\n",
    "import pandas as pd\n",
    "\n",
    "data = [[1, 5], [2, 6], [3, 5], [3, 6], [1, 6]]\n",
    "customer = pd.DataFrame(data, columns=['customer_id', 'product_key']).astype(\n",
    "    {'customer_id': 'Int64', 'product_key': 'Int64'})\n",
    "data = [[5], [6]]\n",
    "product = pd.DataFrame(data, columns=['product_key']).astype({'product_key': 'Int64'})"
   ],
   "metadata": {
    "collapsed": false,
    "ExecuteTime": {
     "end_time": "2023-11-12T00:53:02.370210900Z",
     "start_time": "2023-11-12T00:53:01.858716100Z"
    }
   },
   "id": "cf6d82e4e7c572fe"
  },
  {
   "cell_type": "code",
   "execution_count": 2,
   "outputs": [
    {
     "name": "stderr",
     "output_type": "stream",
     "text": [
      "bash: warning: setlocale: LC_ALL: cannot change locale (en_US.UTF-8)\n",
      "bash: warning: setlocale: LC_ALL: cannot change locale (en_US.UTF-8)\n",
      "23/11/11 18:43:29 WARN Utils: Your hostname, svchost resolves to a loopback address: 127.0.1.1; using 172.18.28.34 instead (on interface eth0)\n",
      "23/11/11 18:43:29 WARN Utils: Set SPARK_LOCAL_IP if you need to bind to another address\n",
      "Setting default log level to \"WARN\".\n",
      "To adjust logging level use sc.setLogLevel(newLevel). For SparkR, use setLogLevel(newLevel).\n",
      "23/11/11 18:43:31 WARN NativeCodeLoader: Unable to load native-hadoop library for your platform... using builtin-java classes where applicable\n",
      "                                                                                \r"
     ]
    },
    {
     "name": "stdout",
     "output_type": "stream",
     "text": [
      "+-----------+-----------+\n",
      "|customer_id|product_key|\n",
      "+-----------+-----------+\n",
      "|          1|          5|\n",
      "|          2|          6|\n",
      "|          3|          5|\n",
      "|          3|          6|\n",
      "|          1|          6|\n",
      "+-----------+-----------+\n"
     ]
    }
   ],
   "source": [
    "#converting to spark dataframe\n",
    "from pyspark.sql import SparkSession\n",
    "import pyspark.sql.functions as F\n",
    "\n",
    "spark = SparkSession.builder.getOrCreate()\n",
    "\n",
    "customer_df = spark.createDataFrame(customer)\n",
    "customer_df.show()"
   ],
   "metadata": {
    "collapsed": false,
    "ExecuteTime": {
     "end_time": "2023-11-12T00:53:13.955727100Z",
     "start_time": "2023-11-12T00:53:02.381514500Z"
    }
   },
   "id": "1ef0028923cbe4e4"
  },
  {
   "cell_type": "code",
   "execution_count": 3,
   "outputs": [
    {
     "name": "stdout",
     "output_type": "stream",
     "text": [
      "+-----------+\n",
      "|product_key|\n",
      "+-----------+\n",
      "|          5|\n",
      "|          6|\n",
      "+-----------+\n"
     ]
    }
   ],
   "source": [
    "product_df = spark.createDataFrame(product)\n",
    "product_df.show()"
   ],
   "metadata": {
    "collapsed": false,
    "ExecuteTime": {
     "end_time": "2023-11-12T00:53:14.745867500Z",
     "start_time": "2023-11-12T00:53:13.947678400Z"
    }
   },
   "id": "6e5b9f94b4244e70"
  },
  {
   "cell_type": "code",
   "execution_count": 4,
   "outputs": [
    {
     "name": "stderr",
     "output_type": "stream",
     "text": [
      "[Stage 7:=======================================>                 (11 + 5) / 16]\r"
     ]
    },
    {
     "name": "stdout",
     "output_type": "stream",
     "text": [
      "+-----------+\n",
      "|customer_id|\n",
      "+-----------+\n",
      "|          3|\n",
      "|          1|\n",
      "+-----------+\n"
     ]
    },
    {
     "name": "stderr",
     "output_type": "stream",
     "text": [
      "                                                                                \r"
     ]
    }
   ],
   "source": [
    "# solving in spark dataframe\n",
    "\n",
    "customer_df \\\n",
    "    .groupBy('customer_id') \\\n",
    "    .agg(F.array(F.collect_set('product_key')).alias('product_key')) \\\n",
    "    .join(product_df.agg(F.array(F.collect_set('product_key')).alias('product_key')),\n",
    "          on=['product_key'],how='inner') \\\n",
    "    .select('customer_id') \\\n",
    "    .show()"
   ],
   "metadata": {
    "collapsed": false,
    "ExecuteTime": {
     "end_time": "2023-11-12T00:53:16.756682800Z",
     "start_time": "2023-11-12T00:53:14.702056500Z"
    }
   },
   "id": "8162681ca06ce76b"
  },
  {
   "cell_type": "code",
   "execution_count": 5,
   "outputs": [
    {
     "name": "stderr",
     "output_type": "stream",
     "text": [
      "[Stage 13:========================>                                (7 + 9) / 16]\r"
     ]
    },
    {
     "name": "stdout",
     "output_type": "stream",
     "text": [
      "+-----------+\n",
      "|customer_id|\n",
      "+-----------+\n",
      "|          3|\n",
      "|          1|\n",
      "+-----------+\n"
     ]
    },
    {
     "name": "stderr",
     "output_type": "stream",
     "text": [
      "                                                                                \r"
     ]
    }
   ],
   "source": [
    "# solving in spark SQL\n",
    "\n",
    "customer_df.createOrReplaceTempView('customer')\n",
    "product_df.createOrReplaceTempView('product')\n",
    "\n",
    "spark.sql('''\n",
    "select customer_id \n",
    "from (\n",
    "    select\n",
    "        customer_id,\n",
    "        collect_set(product_key) as product_key \n",
    "    from customer\n",
    "    group by customer_id\n",
    "    ) c\n",
    "inner join (\n",
    "    select collect_set(product_key) as product_key from product\n",
    "    ) p on\n",
    "c.product_key = p.product_key;\n",
    "''').show()"
   ],
   "metadata": {
    "collapsed": false,
    "ExecuteTime": {
     "end_time": "2023-11-12T00:53:18.075507500Z",
     "start_time": "2023-11-12T00:53:16.746253500Z"
    }
   },
   "id": "7441dffc3fa2b48"
  },
  {
   "cell_type": "code",
   "execution_count": 6,
   "outputs": [
    {
     "data": {
      "text/plain": "'\\nselect customer_id \\nfrom (\\n    select\\n        customer_id,\\n        group_concat(distinct product_key order by product_key) as product_key \\n    from customer\\n    group by customer_id\\n    ) c\\ninner join (\\n    select group_concat(distinct product_key order by product_key) as product_key from product\\n    ) p on\\nc.product_key = p.product_key;\\n'"
     },
     "execution_count": 6,
     "metadata": {},
     "output_type": "execute_result"
    }
   ],
   "source": [
    "# mysql equivalent:\n",
    "'''\n",
    "select customer_id \n",
    "from (\n",
    "    select\n",
    "        customer_id,\n",
    "        group_concat(distinct product_key order by product_key) as product_key \n",
    "    from customer\n",
    "    group by customer_id\n",
    "    ) c\n",
    "inner join (\n",
    "    select group_concat(distinct product_key order by product_key) as product_key from product\n",
    "    ) p on\n",
    "c.product_key = p.product_key;\n",
    "'''"
   ],
   "metadata": {
    "collapsed": false,
    "ExecuteTime": {
     "end_time": "2023-11-12T00:53:18.076121100Z",
     "start_time": "2023-11-12T00:53:18.064213800Z"
    }
   },
   "id": "c8949689d3af7975"
  },
  {
   "cell_type": "code",
   "execution_count": 7,
   "outputs": [],
   "source": [
    "spark.stop()"
   ],
   "metadata": {
    "collapsed": false,
    "ExecuteTime": {
     "end_time": "2023-11-12T00:53:18.977553Z",
     "start_time": "2023-11-12T00:53:18.076121100Z"
    }
   },
   "id": "6484aee3be75bcde"
  }
 ],
 "metadata": {
  "kernelspec": {
   "display_name": "Python 3",
   "language": "python",
   "name": "python3"
  },
  "language_info": {
   "codemirror_mode": {
    "name": "ipython",
    "version": 2
   },
   "file_extension": ".py",
   "mimetype": "text/x-python",
   "name": "python",
   "nbconvert_exporter": "python",
   "pygments_lexer": "ipython2",
   "version": "2.7.6"
  }
 },
 "nbformat": 4,
 "nbformat_minor": 5
}
