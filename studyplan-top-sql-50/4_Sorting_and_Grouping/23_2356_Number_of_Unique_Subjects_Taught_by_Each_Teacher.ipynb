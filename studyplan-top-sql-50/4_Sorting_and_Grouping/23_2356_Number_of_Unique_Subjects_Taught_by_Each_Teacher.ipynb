{
 "cells": [
  {
   "cell_type": "markdown",
   "source": [
    "# [2356. Number of Unique Subjects Taught by Each Teacher](https://leetcode.com/problems/number-of-unique-subjects-taught-by-each-teacher/description/?envType=study-plan-v2&envId=top-sql-50)"
   ],
   "metadata": {
    "collapsed": false
   },
   "id": "5f5b091bdaca396a"
  },
  {
   "cell_type": "markdown",
   "source": [
    "Table: Teacher\n",
    "\n",
    "<pre>+-------------+------+\n",
    "| Column Name | Type |\n",
    "+-------------+------+\n",
    "| teacher_id  | int  |\n",
    "| subject_id  | int  |\n",
    "| dept_id     | int  |\n",
    "+-------------+------+</pre>\n",
    "(subject_id, dept_id) is the primary key (combinations of columns with unique values) of this table.\n",
    "Each row in this table indicates that the teacher with teacher_id teaches the subject subject_id in the department dept_id.\n",
    " \n",
    "\n",
    "Write a solution to calculate the number of unique subjects each teacher teaches in the university.\n",
    "\n",
    "Return the result table in any order.\n",
    "\n",
    "The result format is shown in the following example.\n",
    "\n",
    " \n",
    "\n",
    "Example 1:\n",
    "\n",
    "Input: \n",
    "Teacher table:\n",
    "<pre>+------------+------------+---------+\n",
    "| teacher_id | subject_id | dept_id |\n",
    "+------------+------------+---------+\n",
    "| 1          | 2          | 3       |\n",
    "| 1          | 2          | 4       |\n",
    "| 1          | 3          | 3       |\n",
    "| 2          | 1          | 1       |\n",
    "| 2          | 2          | 1       |\n",
    "| 2          | 3          | 1       |\n",
    "| 2          | 4          | 1       |\n",
    "+------------+------------+---------+</pre>\n",
    "Output:  \n",
    "<pre>+------------+-----+\n",
    "| teacher_id | cnt |\n",
    "+------------+-----+\n",
    "| 1          | 2   |\n",
    "| 2          | 4   |\n",
    "+------------+-----+</pre>\n",
    "Explanation: \n",
    "Teacher 1:\n",
    "  - They teach subject 2 in departments 3 and 4.\n",
    "  - They teach subject 3 in department 3.\n",
    "Teacher 2:\n",
    "  - They teach subject 1 in department 1.\n",
    "  - They teach subject 2 in department 1.\n",
    "  - They teach subject 3 in department 1.\n",
    "  - They teach subject 4 in department 1."
   ],
   "metadata": {
    "collapsed": false
   },
   "id": "a14a781c9ef869b4"
  },
  {
   "cell_type": "code",
   "execution_count": 1,
   "outputs": [],
   "source": [
    "# Pandas schema\n",
    "\n",
    "import pandas as pd\n",
    "\n",
    "data = [[1, 2, 3], [1, 2, 4], [1, 3, 3], [2, 1, 1], [2, 2, 1], [2, 3, 1], [2, 4, 1]]\n",
    "teacher = pd.DataFrame(data, columns=['teacher_id', 'subject_id', 'dept_id']).astype(\n",
    "    {'teacher_id': 'Int64', 'subject_id': 'Int64', 'dept_id': 'Int64'})"
   ],
   "metadata": {
    "collapsed": false,
    "ExecuteTime": {
     "end_time": "2023-11-10T23:30:59.227976600Z",
     "start_time": "2023-11-10T23:30:58.671085500Z"
    }
   },
   "id": "be4b9b23fe394ae7"
  },
  {
   "cell_type": "code",
   "execution_count": 2,
   "outputs": [
    {
     "name": "stderr",
     "output_type": "stream",
     "text": [
      "bash: warning: setlocale: LC_ALL: cannot change locale (en_US.UTF-8)\n",
      "bash: warning: setlocale: LC_ALL: cannot change locale (en_US.UTF-8)\n",
      "23/11/10 03:52:21 WARN Utils: Your hostname, svchost resolves to a loopback address: 127.0.1.1; using 172.18.28.34 instead (on interface eth0)\n",
      "23/11/10 03:52:21 WARN Utils: Set SPARK_LOCAL_IP if you need to bind to another address\n",
      "Setting default log level to \"WARN\".\n",
      "To adjust logging level use sc.setLogLevel(newLevel). For SparkR, use setLogLevel(newLevel).\n",
      "23/11/10 03:52:23 WARN NativeCodeLoader: Unable to load native-hadoop library for your platform... using builtin-java classes where applicable\n",
      "                                                                                \r"
     ]
    },
    {
     "name": "stdout",
     "output_type": "stream",
     "text": [
      "+----------+----------+-------+\n",
      "|teacher_id|subject_id|dept_id|\n",
      "+----------+----------+-------+\n",
      "|         1|         2|      3|\n",
      "|         1|         2|      4|\n",
      "|         1|         3|      3|\n",
      "|         2|         1|      1|\n",
      "|         2|         2|      1|\n",
      "|         2|         3|      1|\n",
      "|         2|         4|      1|\n",
      "+----------+----------+-------+\n"
     ]
    }
   ],
   "source": [
    "#converting to spark dataframe\n",
    "from pyspark.sql import SparkSession\n",
    "\n",
    "spark = SparkSession.builder.getOrCreate()\n",
    "\n",
    "teacher_df = spark.createDataFrame(teacher)\n",
    "teacher_df.show()"
   ],
   "metadata": {
    "collapsed": false,
    "ExecuteTime": {
     "end_time": "2023-11-10T23:31:12.668504500Z",
     "start_time": "2023-11-10T23:30:59.234363100Z"
    }
   },
   "id": "e6d680e24cde5462"
  },
  {
   "cell_type": "code",
   "execution_count": 3,
   "outputs": [
    {
     "name": "stderr",
     "output_type": "stream",
     "text": [
      "[Stage 3:===================================>                     (10 + 6) / 16]\r"
     ]
    },
    {
     "name": "stdout",
     "output_type": "stream",
     "text": [
      "+----------+---+\n",
      "|teacher_id|cnt|\n",
      "+----------+---+\n",
      "|         1|  2|\n",
      "|         2|  4|\n",
      "+----------+---+\n"
     ]
    },
    {
     "name": "stderr",
     "output_type": "stream",
     "text": [
      "                                                                                \r"
     ]
    }
   ],
   "source": [
    "# solving in spark dataframe\n",
    "import pyspark.sql.functions as F\n",
    "\n",
    "teacher_df \\\n",
    "    .select('teacher_id', 'subject_id') \\\n",
    "    .groupBy('teacher_id') \\\n",
    "    .agg(F.count_distinct('subject_id').alias('cnt')) \\\n",
    "    .show()"
   ],
   "metadata": {
    "collapsed": false,
    "ExecuteTime": {
     "end_time": "2023-11-10T23:31:14.943344500Z",
     "start_time": "2023-11-10T23:31:12.668504500Z"
    }
   },
   "id": "caf1b531f276aae8"
  },
  {
   "cell_type": "code",
   "execution_count": 4,
   "outputs": [
    {
     "name": "stdout",
     "output_type": "stream",
     "text": [
      "+----------+---+\n",
      "|teacher_id|cnt|\n",
      "+----------+---+\n",
      "|         1|  2|\n",
      "|         2|  4|\n",
      "+----------+---+\n"
     ]
    }
   ],
   "source": [
    "# solving in spark SQL\n",
    "\n",
    "teacher_df.createOrReplaceTempView('teacher')\n",
    "\n",
    "spark.sql('''\n",
    "select \n",
    "    teacher_id,\n",
    "    count(distinct subject_id) as cnt \n",
    "from teacher\n",
    "group by teacher_id\n",
    "''').show()"
   ],
   "metadata": {
    "collapsed": false,
    "ExecuteTime": {
     "end_time": "2023-11-10T23:31:15.959718Z",
     "start_time": "2023-11-10T23:31:14.940819300Z"
    }
   },
   "id": "f6a704042e196aea"
  },
  {
   "cell_type": "code",
   "execution_count": 5,
   "outputs": [],
   "source": [
    "spark.stop()"
   ],
   "metadata": {
    "collapsed": false,
    "ExecuteTime": {
     "end_time": "2023-11-10T23:31:16.870514Z",
     "start_time": "2023-11-10T23:31:15.956586500Z"
    }
   },
   "id": "851ed20efbafb32d"
  }
 ],
 "metadata": {
  "kernelspec": {
   "display_name": "Python 3",
   "language": "python",
   "name": "python3"
  },
  "language_info": {
   "codemirror_mode": {
    "name": "ipython",
    "version": 2
   },
   "file_extension": ".py",
   "mimetype": "text/x-python",
   "name": "python",
   "nbconvert_exporter": "python",
   "pygments_lexer": "ipython2",
   "version": "2.7.6"
  }
 },
 "nbformat": 4,
 "nbformat_minor": 5
}
