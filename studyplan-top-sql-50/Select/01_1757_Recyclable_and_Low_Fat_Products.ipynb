{
 "cells": [
  {
   "cell_type": "markdown",
   "source": [
    "# [1757. Recyclable and Low Fat Products](https://leetcode.com/problems/recyclable-and-low-fat-products/description/?envType=study-plan-v2&envId=top-sql-50)"
   ],
   "metadata": {
    "collapsed": false
   },
   "id": "872f4de251f64501"
  },
  {
   "cell_type": "markdown",
   "source": [
    "Table: Products\n",
    "\n",
    "<pre>\n",
    "+-------------+---------+\n",
    "| Column Name | Type    |\n",
    "+-------------+---------+\n",
    "| product_id  | int     |\n",
    "| low_fats    | enum    |\n",
    "| recyclable  | enum    |\n",
    "+-------------+---------+</pre>\n",
    "\n",
    "product_id is the primary key (column with unique values) for this table.\n",
    "low_fats is an ENUM (category) of type ('Y', 'N') where 'Y' means this product is low fat and 'N' means it is not.\n",
    "recyclable is an ENUM (category) of types ('Y', 'N') where 'Y' means this product is recyclable and 'N' means it is not.\n",
    " \n",
    "\n",
    "Write a solution to find the ids of products that are both low fat and recyclable.\n",
    "\n",
    "Return the result table in any order.\n",
    "\n",
    "The result format is in the following example.\n",
    "\n",
    " \n",
    "\n",
    "Example 1:\n",
    "\n",
    "Input: \n",
    "Products table:\n",
    "<pre>\n",
    "+-------------+----------+------------+\n",
    "| product_id  | low_fats | recyclable |\n",
    "+-------------+----------+------------+\n",
    "| 0           | Y        | N          |\n",
    "| 1           | Y        | Y          |\n",
    "| 2           | N        | Y          |\n",
    "| 3           | Y        | Y          |\n",
    "| 4           | N        | N          |\n",
    "+-------------+----------+------------+\n",
    "</pre>\n",
    "Output:\n",
    "<pre> \n",
    "+-------------+\n",
    "| product_id  |\n",
    "+-------------+\n",
    "| 1           |\n",
    "| 3           |\n",
    "+-------------+\n",
    "</pre>\n",
    "Explanation: Only products 1 and 3 are both low fat and recyclable."
   ],
   "metadata": {
    "collapsed": false
   },
   "id": "240ce82902b8a10e"
  },
  {
   "cell_type": "code",
   "execution_count": 1,
   "outputs": [],
   "source": [
    "# Pandas Schema\n",
    "\n",
    "import pandas as pd\n",
    "\n",
    "data = [['0', 'Y', 'N'], ['1', 'Y', 'Y'], ['2', 'N', 'Y'], ['3', 'Y', 'Y'], ['4', 'N', 'N']]\n",
    "products = pd.DataFrame(data, columns=['product_id', 'low_fats', 'recyclable']).astype(\n",
    "    {'product_id': 'int64', 'low_fats': 'category', 'recyclable': 'category'})"
   ],
   "metadata": {
    "collapsed": false,
    "ExecuteTime": {
     "end_time": "2023-11-05T16:39:03.856956Z",
     "start_time": "2023-11-05T16:39:03.342800Z"
    }
   },
   "id": "8d9a3bc1d7832ea4"
  },
  {
   "cell_type": "code",
   "execution_count": 2,
   "outputs": [
    {
     "name": "stderr",
     "output_type": "stream",
     "text": [
      "bash: warning: setlocale: LC_ALL: cannot change locale (en_US.UTF-8)\n",
      "bash: warning: setlocale: LC_ALL: cannot change locale (en_US.UTF-8)\n",
      "23/11/05 10:39:06 WARN Utils: Your hostname, svchost resolves to a loopback address: 127.0.1.1; using 172.18.28.34 instead (on interface eth0)\n",
      "23/11/05 10:39:06 WARN Utils: Set SPARK_LOCAL_IP if you need to bind to another address\n",
      "Setting default log level to \"WARN\".\n",
      "To adjust logging level use sc.setLogLevel(newLevel). For SparkR, use setLogLevel(newLevel).\n",
      "23/11/05 10:39:08 WARN NativeCodeLoader: Unable to load native-hadoop library for your platform... using builtin-java classes where applicable\n"
     ]
    },
    {
     "name": "stdout",
     "output_type": "stream",
     "text": [
      "root\n",
      " |-- product_id: long (nullable = true)\n",
      " |-- low_fats: string (nullable = true)\n",
      " |-- recyclable: string (nullable = true)\n"
     ]
    }
   ],
   "source": [
    "import warnings\n",
    "\n",
    "#converting to spark dataframe\n",
    "warnings.simplefilter('ignore')\n",
    "from pyspark.sql import SparkSession\n",
    "\n",
    "spark = SparkSession.builder.getOrCreate()\n",
    "\n",
    "products_df = spark.createDataFrame(products)\n",
    "products_df.printSchema()"
   ],
   "metadata": {
    "collapsed": false,
    "ExecuteTime": {
     "end_time": "2023-11-05T16:39:15.960334600Z",
     "start_time": "2023-11-05T16:39:03.866758500Z"
    }
   },
   "id": "44b776c8a7045b15"
  },
  {
   "cell_type": "code",
   "execution_count": 3,
   "outputs": [
    {
     "name": "stderr",
     "output_type": "stream",
     "text": [
      "                                                                                \r"
     ]
    },
    {
     "name": "stdout",
     "output_type": "stream",
     "text": [
      "+----------+--------+----------+\n",
      "|product_id|low_fats|recyclable|\n",
      "+----------+--------+----------+\n",
      "|0         |Y       |N         |\n",
      "|1         |Y       |Y         |\n",
      "|2         |N       |Y         |\n",
      "|3         |Y       |Y         |\n",
      "|4         |N       |N         |\n",
      "+----------+--------+----------+\n"
     ]
    }
   ],
   "source": [
    "products_df.show(truncate=False)"
   ],
   "metadata": {
    "collapsed": false,
    "ExecuteTime": {
     "end_time": "2023-11-05T16:39:20.230752200Z",
     "start_time": "2023-11-05T16:39:15.949787600Z"
    }
   },
   "id": "d07e24b0749fccfa"
  },
  {
   "cell_type": "code",
   "execution_count": 4,
   "outputs": [
    {
     "name": "stdout",
     "output_type": "stream",
     "text": [
      "+----------+\n",
      "|product_id|\n",
      "+----------+\n",
      "|         1|\n",
      "|         3|\n",
      "+----------+\n"
     ]
    }
   ],
   "source": [
    "# in Spark Dataframe\n",
    "import pyspark.sql.functions as F\n",
    "\n",
    "products_df.filter((F.col('low_fats') == 'Y') & (F.col('recyclable') == 'Y')).select('product_id').show()"
   ],
   "metadata": {
    "collapsed": false,
    "ExecuteTime": {
     "end_time": "2023-11-05T16:39:21.386657700Z",
     "start_time": "2023-11-05T16:39:20.221299800Z"
    }
   },
   "id": "9c647b45dc8ee9da"
  },
  {
   "cell_type": "code",
   "execution_count": 5,
   "outputs": [
    {
     "name": "stdout",
     "output_type": "stream",
     "text": [
      "+----------+\n",
      "|product_id|\n",
      "+----------+\n",
      "|         1|\n",
      "|         3|\n",
      "+----------+\n"
     ]
    }
   ],
   "source": [
    "# in Spark SQL\n",
    "\n",
    "products_df.createOrReplaceTempView('Products')\n",
    "spark.sql('''\n",
    "select product_id from products where low_fats=\"Y\" and recyclable=\"Y\";\n",
    "''').show()"
   ],
   "metadata": {
    "collapsed": false,
    "ExecuteTime": {
     "end_time": "2023-11-05T16:39:22.506629Z",
     "start_time": "2023-11-05T16:39:21.361071500Z"
    }
   },
   "id": "fbe69d8b8cc3845"
  },
  {
   "cell_type": "code",
   "execution_count": 6,
   "outputs": [],
   "source": [
    "spark.stop()"
   ],
   "metadata": {
    "collapsed": false,
    "ExecuteTime": {
     "end_time": "2023-11-05T16:39:23.478226Z",
     "start_time": "2023-11-05T16:39:22.481923200Z"
    }
   },
   "id": "3b09d0d3e7837236"
  },
  {
   "cell_type": "code",
   "execution_count": 6,
   "outputs": [],
   "source": [],
   "metadata": {
    "collapsed": false,
    "ExecuteTime": {
     "end_time": "2023-11-05T16:39:23.531989900Z",
     "start_time": "2023-11-05T16:39:23.473112300Z"
    }
   },
   "id": "8dcf46f60b82a11d"
  }
 ],
 "metadata": {
  "kernelspec": {
   "display_name": "Python 3",
   "language": "python",
   "name": "python3"
  },
  "language_info": {
   "codemirror_mode": {
    "name": "ipython",
    "version": 2
   },
   "file_extension": ".py",
   "mimetype": "text/x-python",
   "name": "python",
   "nbconvert_exporter": "python",
   "pygments_lexer": "ipython2",
   "version": "2.7.6"
  }
 },
 "nbformat": 4,
 "nbformat_minor": 5
}
