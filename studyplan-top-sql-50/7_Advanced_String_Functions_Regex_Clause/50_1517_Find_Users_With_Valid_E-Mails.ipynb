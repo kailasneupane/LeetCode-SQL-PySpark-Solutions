{
 "cells": [
  {
   "cell_type": "markdown",
   "source": [
    "# [1517. Find Users With Valid E-Mails](https://leetcode.com/problems/find-users-with-valid-e-mails/description/?envType=study-plan-v2&envId=top-sql-50)"
   ],
   "metadata": {
    "collapsed": false
   },
   "id": "dde361511e8ccc4"
  },
  {
   "cell_type": "markdown",
   "source": [
    "Table: Users\n",
    "\n",
    "<pre>+---------------+---------+\n",
    "| Column Name   | Type    |\n",
    "+---------------+---------+\n",
    "| user_id       | int     |\n",
    "| name          | varchar |\n",
    "| mail          | varchar |\n",
    "+---------------+---------+</pre>\n",
    "user_id is the primary key (column with unique values) for this table.\n",
    "This table contains information of the users signed up in a website. Some e-mails are invalid.\n",
    " \n",
    "\n",
    "Write a solution to find the users who have valid emails.\n",
    "\n",
    "A valid e-mail has a prefix name and a domain where:\n",
    "\n",
    "The prefix name is a string that may contain letters (upper or lower case), digits, underscore '_', period '.', and/or dash '-'. The prefix name must start with a letter.\n",
    "The domain is '@leetcode.com'.\n",
    "Return the result table in any order.\n",
    "\n",
    "The result format is in the following example.\n",
    "\n",
    " \n",
    "\n",
    "Example 1:\n",
    "\n",
    "Input: \n",
    "Users table:\n",
    "<pre>+---------+-----------+-------------------------+\n",
    "| user_id | name      | mail                    |\n",
    "+---------+-----------+-------------------------+\n",
    "| 1       | Winston   | winston@leetcode.com    |\n",
    "| 2       | Jonathan  | jonathanisgreat         |\n",
    "| 3       | Annabelle | bella-@leetcode.com     |\n",
    "| 4       | Sally     | sally.come@leetcode.com |\n",
    "| 5       | Marwan    | quarz#2020@leetcode.com |\n",
    "| 6       | David     | david69@gmail.com       |\n",
    "| 7       | Shapiro   | .shapo@leetcode.com     |\n",
    "+---------+-----------+-------------------------+</pre>\n",
    "Output: \n",
    "<pre>+---------+-----------+-------------------------+\n",
    "| user_id | name      | mail                    |\n",
    "+---------+-----------+-------------------------+\n",
    "| 1       | Winston   | winston@leetcode.com    |\n",
    "| 3       | Annabelle | bella-@leetcode.com     |\n",
    "| 4       | Sally     | sally.come@leetcode.com |\n",
    "+---------+-----------+-------------------------+</pre>\n",
    "Explanation: \n",
    "The mail of user 2 does not have a domain.\n",
    "The mail of user 5 has the # sign which is not allowed.\n",
    "The mail of user 6 does not have the leetcode domain.\n",
    "The mail of user 7 starts with a period."
   ],
   "metadata": {
    "collapsed": false
   },
   "id": "b753a07db1a911dd"
  },
  {
   "cell_type": "code",
   "execution_count": 6,
   "outputs": [],
   "source": [
    "# Pandas schema\n",
    "\n",
    "import pandas as pd\n",
    "\n",
    "data = [[1, 'Winston', 'winston@leetcode.com'], [2, 'Jonathan', 'jonathanisgreat'],\n",
    "        [3, 'Annabelle', 'bella-@leetcode.com'], [4, 'Sally', 'sally.come@leetcode.com'],\n",
    "        [5, 'Marwan', 'quarz#2020@leetcode.com'], [6, 'David', 'david69@gmail.com'],\n",
    "        [7, 'Shapiro', '.shapo@leetcode.com']]\n",
    "users = pd.DataFrame(data, columns=['user_id', 'name', 'mail']).astype(\n",
    "    {'user_id': 'int64', 'name': 'object', 'mail': 'object'})"
   ],
   "metadata": {
    "collapsed": false,
    "ExecuteTime": {
     "end_time": "2023-11-12T05:16:04.825065500Z",
     "start_time": "2023-11-12T05:16:04.820784200Z"
    }
   },
   "id": "ed20b27386afb658"
  },
  {
   "cell_type": "code",
   "execution_count": 7,
   "outputs": [
    {
     "name": "stderr",
     "output_type": "stream",
     "text": [
      "                                                                                \r"
     ]
    },
    {
     "name": "stdout",
     "output_type": "stream",
     "text": [
      "+-------+---------+-----------------------+\n",
      "|user_id|name     |mail                   |\n",
      "+-------+---------+-----------------------+\n",
      "|1      |Winston  |winston@leetcode.com   |\n",
      "|2      |Jonathan |jonathanisgreat        |\n",
      "|3      |Annabelle|bella-@leetcode.com    |\n",
      "|4      |Sally    |sally.come@leetcode.com|\n",
      "|5      |Marwan   |quarz#2020@leetcode.com|\n",
      "|6      |David    |david69@gmail.com      |\n",
      "|7      |Shapiro  |.shapo@leetcode.com    |\n",
      "+-------+---------+-----------------------+\n"
     ]
    }
   ],
   "source": [
    "import pyspark.sql.functions as F\n",
    "from pyspark.sql import SparkSession\n",
    "\n",
    "#pyspark schema\n",
    "\n",
    "spark = SparkSession.builder.getOrCreate()\n",
    "\n",
    "users_df = spark.createDataFrame(users)\n",
    "users_df.show(truncate=False)"
   ],
   "metadata": {
    "collapsed": false,
    "ExecuteTime": {
     "end_time": "2023-11-12T05:16:06.361687200Z",
     "start_time": "2023-11-12T05:16:04.825065500Z"
    }
   },
   "id": "a772ab01f9c2236b"
  },
  {
   "cell_type": "code",
   "execution_count": 8,
   "outputs": [
    {
     "name": "stdout",
     "output_type": "stream",
     "text": [
      "+-------+---------+-----------------------+\n",
      "|user_id|name     |mail                   |\n",
      "+-------+---------+-----------------------+\n",
      "|1      |Winston  |winston@leetcode.com   |\n",
      "|3      |Annabelle|bella-@leetcode.com    |\n",
      "|4      |Sally    |sally.come@leetcode.com|\n",
      "+-------+---------+-----------------------+\n"
     ]
    }
   ],
   "source": [
    "# Solving in spark dataframe\n",
    "\n",
    "users_df\\\n",
    "    .filter(F.col('mail').rlike('^[a-zA-Z][-a-zA-Z.0-9_]*@leetcode\\\\.com$'))\\\n",
    "    .show(truncate=False)"
   ],
   "metadata": {
    "collapsed": false,
    "ExecuteTime": {
     "end_time": "2023-11-12T05:16:06.928183500Z",
     "start_time": "2023-11-12T05:16:06.354215600Z"
    }
   },
   "id": "7be84eccae79fb37"
  },
  {
   "cell_type": "code",
   "execution_count": 9,
   "outputs": [
    {
     "name": "stdout",
     "output_type": "stream",
     "text": [
      "+-------+---------+-----------------------+\n",
      "|user_id|name     |mail                   |\n",
      "+-------+---------+-----------------------+\n",
      "|1      |Winston  |winston@leetcode.com   |\n",
      "|3      |Annabelle|bella-@leetcode.com    |\n",
      "|4      |Sally    |sally.come@leetcode.com|\n",
      "+-------+---------+-----------------------+\n"
     ]
    }
   ],
   "source": [
    "# Solving in Spark SQL\n",
    "\n",
    "users_df.createOrReplaceTempView('users')\n",
    "\n",
    "spark.sql('''\n",
    "select * from users\n",
    "where mail regexp '^[a-zA-Z][-a-zA-Z.0-9_]*@leetcode\\\\.com$';\n",
    "-- where mail rlike('^[a-zA-Z][-a-zA-Z.0-9_]*@leetcode\\\\.com$');\n",
    "''').show(truncate=False)"
   ],
   "metadata": {
    "collapsed": false,
    "ExecuteTime": {
     "end_time": "2023-11-12T05:16:07.588885700Z",
     "start_time": "2023-11-12T05:16:06.898832500Z"
    }
   },
   "id": "7818729744d544e0"
  },
  {
   "cell_type": "code",
   "execution_count": 10,
   "outputs": [],
   "source": [
    "spark.stop()"
   ],
   "metadata": {
    "collapsed": false,
    "ExecuteTime": {
     "end_time": "2023-11-12T05:16:08.507825700Z",
     "start_time": "2023-11-12T05:16:07.570719500Z"
    }
   },
   "id": "9b96054539acbb8d"
  }
 ],
 "metadata": {
  "kernelspec": {
   "display_name": "Python 3",
   "language": "python",
   "name": "python3"
  },
  "language_info": {
   "codemirror_mode": {
    "name": "ipython",
    "version": 2
   },
   "file_extension": ".py",
   "mimetype": "text/x-python",
   "name": "python",
   "nbconvert_exporter": "python",
   "pygments_lexer": "ipython2",
   "version": "2.7.6"
  }
 },
 "nbformat": 4,
 "nbformat_minor": 5
}
