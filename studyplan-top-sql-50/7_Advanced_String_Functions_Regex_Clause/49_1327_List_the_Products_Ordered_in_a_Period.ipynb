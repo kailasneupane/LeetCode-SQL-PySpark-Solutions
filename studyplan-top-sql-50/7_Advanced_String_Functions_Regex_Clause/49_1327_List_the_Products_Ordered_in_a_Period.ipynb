{
 "cells": [
  {
   "cell_type": "markdown",
   "source": [
    "# [1327. List the Products Ordered in a Period](https://leetcode.com/problems/list-the-products-ordered-in-a-period/description/?envType=study-plan-v2&envId=top-sql-50)"
   ],
   "metadata": {
    "collapsed": false
   },
   "id": "dd5809b7beff8b51"
  },
  {
   "cell_type": "markdown",
   "source": [
    "Table: Products\n",
    "\n",
    "<pre>+------------------+---------+\n",
    "| Column Name      | Type    |\n",
    "+------------------+---------+\n",
    "| product_id       | int     |\n",
    "| product_name     | varchar |\n",
    "| product_category | varchar |\n",
    "+------------------+---------+</pre>\n",
    "product_id is the primary key (column with unique values) for this table.\n",
    "This table contains data about the company's products.\n",
    " \n",
    "\n",
    "Table: Orders\n",
    "\n",
    "<pre>+---------------+---------+\n",
    "| Column Name   | Type    |\n",
    "+---------------+---------+\n",
    "| product_id    | int     |\n",
    "| order_date    | date    |\n",
    "| unit          | int     |\n",
    "+---------------+---------+</pre>\n",
    "This table may have duplicate rows.\n",
    "product_id is a foreign key (reference column) to the Products table.\n",
    "unit is the number of products ordered in order_date.\n",
    " \n",
    "\n",
    "Write a solution to get the names of products that have at least 100 units ordered in February 2020 and their amount.\n",
    "\n",
    "Return the result table in any order.\n",
    "\n",
    "The result format is in the following example.\n",
    "\n",
    " \n",
    "\n",
    "Example 1:\n",
    "\n",
    "Input: \n",
    "Products table:\n",
    "<pre>+-------------+-----------------------+------------------+\n",
    "| product_id  | product_name          | product_category |\n",
    "+-------------+-----------------------+------------------+\n",
    "| 1           | Leetcode Solutions    | Book             |\n",
    "| 2           | Jewels of Stringology | Book             |\n",
    "| 3           | HP                    | Laptop           |\n",
    "| 4           | Lenovo                | Laptop           |\n",
    "| 5           | Leetcode Kit          | T-shirt          |\n",
    "+-------------+-----------------------+------------------+</pre>\n",
    "Orders table:\n",
    "<pre>+--------------+--------------+----------+\n",
    "| product_id   | order_date   | unit     |\n",
    "+--------------+--------------+----------+\n",
    "| 1            | 2020-02-05   | 60       |\n",
    "| 1            | 2020-02-10   | 70       |\n",
    "| 2            | 2020-01-18   | 30       |\n",
    "| 2            | 2020-02-11   | 80       |\n",
    "| 3            | 2020-02-17   | 2        |\n",
    "| 3            | 2020-02-24   | 3        |\n",
    "| 4            | 2020-03-01   | 20       |\n",
    "| 4            | 2020-03-04   | 30       |\n",
    "| 4            | 2020-03-04   | 60       |\n",
    "| 5            | 2020-02-25   | 50       |\n",
    "| 5            | 2020-02-27   | 50       |\n",
    "| 5            | 2020-03-01   | 50       |\n",
    "+--------------+--------------+----------+</pre>\n",
    "Output: \n",
    "<pre>+--------------------+---------+\n",
    "| product_name       | unit    |\n",
    "+--------------------+---------+\n",
    "| Leetcode Solutions | 130     |\n",
    "| Leetcode Kit       | 100     |\n",
    "+--------------------+---------+</pre>\n",
    "Explanation: \n",
    "Products with product_id = 1 is ordered in February a total of (60 + 70) = 130.\n",
    "Products with product_id = 2 is ordered in February a total of 80.\n",
    "Products with product_id = 3 is ordered in February a total of (2 + 3) = 5.\n",
    "Products with product_id = 4 was not ordered in February 2020.\n",
    "Products with product_id = 5 is ordered in February a total of (50 + 50) = 100."
   ],
   "metadata": {
    "collapsed": false
   },
   "id": "e29d879193b1dd03"
  },
  {
   "cell_type": "code",
   "execution_count": 1,
   "outputs": [],
   "source": [
    "# pandas schema\n",
    "\n",
    "import pandas as pd\n",
    "\n",
    "data = [[1, 'Leetcode Solutions', 'Book'], [2, 'Jewels of Stringology', 'Book'], [3, 'HP', 'Laptop'],\n",
    "        [4, 'Lenovo', 'Laptop'], [5, 'Leetcode Kit', 'T-shirt']]\n",
    "products = pd.DataFrame(data, columns=['product_id', 'product_name', 'product_category']).astype(\n",
    "    {'product_id': 'Int64', 'product_name': 'object', 'product_category': 'object'})\n",
    "data = [[1, '2020-02-05', 60], [1, '2020-02-10', 70], [2, '2020-01-18', 30], [2, '2020-02-11', 80],\n",
    "        [3, '2020-02-17', 2], [3, '2020-02-24', 3], [4, '2020-03-01', 20], [4, '2020-03-04', 30], [4, '2020-03-04', 60],\n",
    "        [5, '2020-02-25', 50], [5, '2020-02-27', 50], [5, '2020-03-01', 50]]\n",
    "orders = pd.DataFrame(data, columns=['product_id', 'order_date', 'unit']).astype(\n",
    "    {'product_id': 'Int64', 'order_date': 'datetime64[ns]', 'unit': 'Int64'})"
   ],
   "metadata": {
    "collapsed": false,
    "ExecuteTime": {
     "end_time": "2023-11-12T05:05:53.639051900Z",
     "start_time": "2023-11-12T05:05:53.104153800Z"
    }
   },
   "id": "8a3d07e49cc0722a"
  },
  {
   "cell_type": "code",
   "execution_count": 2,
   "outputs": [
    {
     "name": "stderr",
     "output_type": "stream",
     "text": [
      "bash: warning: setlocale: LC_ALL: cannot change locale (en_US.UTF-8)\n",
      "bash: warning: setlocale: LC_ALL: cannot change locale (en_US.UTF-8)\n",
      "23/11/11 22:25:17 WARN Utils: Your hostname, svchost resolves to a loopback address: 127.0.1.1; using 172.18.28.34 instead (on interface eth0)\n",
      "23/11/11 22:25:17 WARN Utils: Set SPARK_LOCAL_IP if you need to bind to another address\n",
      "Setting default log level to \"WARN\".\n",
      "To adjust logging level use sc.setLogLevel(newLevel). For SparkR, use setLogLevel(newLevel).\n",
      "23/11/11 22:25:19 WARN NativeCodeLoader: Unable to load native-hadoop library for your platform... using builtin-java classes where applicable\n",
      "                                                                                \r"
     ]
    },
    {
     "name": "stdout",
     "output_type": "stream",
     "text": [
      "+----------+---------------------+----------------+\n",
      "|product_id|product_name         |product_category|\n",
      "+----------+---------------------+----------------+\n",
      "|1         |Leetcode Solutions   |Book            |\n",
      "|2         |Jewels of Stringology|Book            |\n",
      "|3         |HP                   |Laptop          |\n",
      "|4         |Lenovo               |Laptop          |\n",
      "|5         |Leetcode Kit         |T-shirt         |\n",
      "+----------+---------------------+----------------+\n"
     ]
    }
   ],
   "source": [
    "import pyspark.sql.functions as F\n",
    "from pyspark.sql import SparkSession\n",
    "\n",
    "#pyspark schema\n",
    "\n",
    "spark = SparkSession.builder.getOrCreate()\n",
    "\n",
    "products_df = spark.createDataFrame(products)\n",
    "products_df.show(truncate=False)"
   ],
   "metadata": {
    "collapsed": false,
    "ExecuteTime": {
     "end_time": "2023-11-12T05:06:06.519068600Z",
     "start_time": "2023-11-12T05:05:53.608183500Z"
    }
   },
   "id": "f35c14339f3f78f7"
  },
  {
   "cell_type": "code",
   "execution_count": 3,
   "outputs": [
    {
     "name": "stdout",
     "output_type": "stream",
     "text": [
      "+----------+-------------------+----+\n",
      "|product_id|order_date         |unit|\n",
      "+----------+-------------------+----+\n",
      "|1         |2020-02-05 00:00:00|60  |\n",
      "|1         |2020-02-10 00:00:00|70  |\n",
      "|2         |2020-01-18 00:00:00|30  |\n",
      "|2         |2020-02-11 00:00:00|80  |\n",
      "|3         |2020-02-17 00:00:00|2   |\n",
      "|3         |2020-02-24 00:00:00|3   |\n",
      "|4         |2020-03-01 00:00:00|20  |\n",
      "|4         |2020-03-04 00:00:00|30  |\n",
      "|4         |2020-03-04 00:00:00|60  |\n",
      "|5         |2020-02-25 00:00:00|50  |\n",
      "|5         |2020-02-27 00:00:00|50  |\n",
      "|5         |2020-03-01 00:00:00|50  |\n",
      "+----------+-------------------+----+\n"
     ]
    }
   ],
   "source": [
    "orders_df = spark.createDataFrame(orders)\n",
    "orders_df.show(truncate=False)"
   ],
   "metadata": {
    "collapsed": false,
    "ExecuteTime": {
     "end_time": "2023-11-12T05:06:07.611146100Z",
     "start_time": "2023-11-12T05:06:06.513564300Z"
    }
   },
   "id": "f077eccb53fdc9ad"
  },
  {
   "cell_type": "code",
   "execution_count": 4,
   "outputs": [
    {
     "name": "stderr",
     "output_type": "stream",
     "text": [
      "[Stage 7:==============================================>          (13 + 3) / 16]\r"
     ]
    },
    {
     "name": "stdout",
     "output_type": "stream",
     "text": [
      "+------------------+----+\n",
      "|      product_name|unit|\n",
      "+------------------+----+\n",
      "|Leetcode Solutions| 130|\n",
      "|      Leetcode Kit| 100|\n",
      "+------------------+----+\n"
     ]
    },
    {
     "name": "stderr",
     "output_type": "stream",
     "text": [
      "                                                                                \r"
     ]
    }
   ],
   "source": [
    "# solving in spark dataframe\n",
    "\n",
    "#orders_df.filter(F.substring(F.col('order_date'),0,7)=='2020-02')\\\n",
    "orders_df.filter((F.month(F.col('order_date'))==2) & (F.year(F.col('order_date'))==2020))\\\n",
    "    .groupBy('product_id').agg(F.sum('unit').alias('unit'))\\\n",
    "    .filter(F.col('unit')>=100)\\\n",
    "    .join(products_df,on=['product_id'],how='inner')\\\n",
    "    .select('product_name','unit')\\\n",
    "    .show()"
   ],
   "metadata": {
    "collapsed": false,
    "ExecuteTime": {
     "end_time": "2023-11-12T05:06:10.322761Z",
     "start_time": "2023-11-12T05:06:07.607090300Z"
    }
   },
   "id": "c2da79a74b1d17c2"
  },
  {
   "cell_type": "code",
   "execution_count": 5,
   "outputs": [
    {
     "name": "stdout",
     "output_type": "stream",
     "text": [
      "+------------------+----+\n",
      "|      product_name|unit|\n",
      "+------------------+----+\n",
      "|Leetcode Solutions| 130|\n",
      "|      Leetcode Kit| 100|\n",
      "+------------------+----+\n"
     ]
    },
    {
     "name": "stderr",
     "output_type": "stream",
     "text": [
      "                                                                                \r"
     ]
    }
   ],
   "source": [
    "# Solving in Spark SQL\n",
    "\n",
    "orders_df.createOrReplaceTempView('orders')\n",
    "products_df.createOrReplaceTempView('products')\n",
    "\n",
    "spark.sql('''\n",
    "select product_name, unit from\n",
    "(select product_id, sum(unit) as unit\n",
    "from orders\n",
    "where year(order_date)=2020 and month(order_date)=2\n",
    "-- where left(order_date,7)='2020-02'\n",
    "group by orders.product_id\n",
    "having sum(unit)>=100) t\n",
    "inner join products on \n",
    "products.product_id = t.product_id;\n",
    "''').show()"
   ],
   "metadata": {
    "collapsed": false,
    "ExecuteTime": {
     "end_time": "2023-11-12T05:06:11.612652400Z",
     "start_time": "2023-11-12T05:06:10.322761Z"
    }
   },
   "id": "835a81fca286659"
  },
  {
   "cell_type": "code",
   "execution_count": 6,
   "outputs": [],
   "source": [
    "spark.stop()"
   ],
   "metadata": {
    "collapsed": false,
    "ExecuteTime": {
     "end_time": "2023-11-12T05:06:12.466178700Z",
     "start_time": "2023-11-12T05:06:11.613170500Z"
    }
   },
   "id": "ffdb9122c533296a"
  }
 ],
 "metadata": {
  "kernelspec": {
   "display_name": "Python 3",
   "language": "python",
   "name": "python3"
  },
  "language_info": {
   "codemirror_mode": {
    "name": "ipython",
    "version": 2
   },
   "file_extension": ".py",
   "mimetype": "text/x-python",
   "name": "python",
   "nbconvert_exporter": "python",
   "pygments_lexer": "ipython2",
   "version": "2.7.6"
  }
 },
 "nbformat": 4,
 "nbformat_minor": 5
}
