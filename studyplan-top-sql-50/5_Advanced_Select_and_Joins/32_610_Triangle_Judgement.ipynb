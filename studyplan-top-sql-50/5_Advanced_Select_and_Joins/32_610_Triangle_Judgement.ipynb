{
 "cells": [
  {
   "cell_type": "markdown",
   "source": [
    "# [610. Triangle Judgement](https://leetcode.com/problems/triangle-judgement/description/?envType=study-plan-v2&envId=top-sql-50)"
   ],
   "metadata": {
    "collapsed": false
   },
   "id": "b7cdf68175c57bd2"
  },
  {
   "cell_type": "markdown",
   "source": [
    "Table: Triangle\n",
    "\n",
    "<pre>+-------------+------+\n",
    "| Column Name | Type |\n",
    "+-------------+------+\n",
    "| x           | int  |\n",
    "| y           | int  |\n",
    "| z           | int  |\n",
    "+-------------+------+</pre>\n",
    "In SQL, (x, y, z) is the primary key column for this table.\n",
    "Each row of this table contains the lengths of three line segments.\n",
    " \n",
    "\n",
    "Report for every three line segments whether they can form a triangle.\n",
    "\n",
    "Return the result table in any order.\n",
    "\n",
    "The result format is in the following example.\n",
    "\n",
    " \n",
    "\n",
    "Example 1:\n",
    "\n",
    "Input: \n",
    "Triangle table:\n",
    "<pre>+----+----+----+\n",
    "| x  | y  | z  |\n",
    "+----+----+----+\n",
    "| 13 | 15 | 30 |\n",
    "| 10 | 20 | 15 |\n",
    "+----+----+----+</pre>\n",
    "Output: \n",
    "<pre>+----+----+----+----------+\n",
    "| x  | y  | z  | triangle |\n",
    "+----+----+----+----------+\n",
    "| 13 | 15 | 30 | No       |\n",
    "| 10 | 20 | 15 | Yes      |\n",
    "+----+----+----+----------+</pre>"
   ],
   "metadata": {
    "collapsed": false
   },
   "id": "50333c32fc5baae7"
  },
  {
   "cell_type": "code",
   "execution_count": 1,
   "outputs": [],
   "source": [
    "# pandas schema\n",
    "\n",
    "import pandas as pd\n",
    "\n",
    "data = [[13, 15, 30], [10, 20, 15]]\n",
    "triangle = pd.DataFrame(data, columns=['x', 'y', 'z']).astype({'x': 'Int64', 'y': 'Int64', 'z': 'Int64'})"
   ],
   "metadata": {
    "collapsed": false,
    "ExecuteTime": {
     "end_time": "2023-11-05T19:20:16.521870400Z",
     "start_time": "2023-11-05T19:20:15.813181700Z"
    }
   },
   "id": "7bd40a95535e4c4f"
  },
  {
   "cell_type": "code",
   "execution_count": 2,
   "outputs": [
    {
     "name": "stderr",
     "output_type": "stream",
     "text": [
      "bash: warning: setlocale: LC_ALL: cannot change locale (en_US.UTF-8)\n",
      "bash: warning: setlocale: LC_ALL: cannot change locale (en_US.UTF-8)\n",
      "23/11/05 12:25:23 WARN Utils: Your hostname, svchost resolves to a loopback address: 127.0.1.1; using 172.18.28.34 instead (on interface eth0)\n",
      "23/11/05 12:25:23 WARN Utils: Set SPARK_LOCAL_IP if you need to bind to another address\n",
      "Setting default log level to \"WARN\".\n",
      "To adjust logging level use sc.setLogLevel(newLevel). For SparkR, use setLogLevel(newLevel).\n",
      "23/11/05 12:25:25 WARN NativeCodeLoader: Unable to load native-hadoop library for your platform... using builtin-java classes where applicable\n",
      "                                                                                \r"
     ]
    },
    {
     "name": "stdout",
     "output_type": "stream",
     "text": [
      "+---+---+---+\n",
      "|  x|  y|  z|\n",
      "+---+---+---+\n",
      "| 13| 15| 30|\n",
      "| 10| 20| 15|\n",
      "+---+---+---+\n"
     ]
    }
   ],
   "source": [
    "# Converting to pyspask schema\n",
    "\n",
    "from pyspark.sql import SparkSession\n",
    "from pyspark.sql import functions as F\n",
    "\n",
    "spark = SparkSession.builder.getOrCreate()\n",
    "\n",
    "triangle_df = spark.createDataFrame(triangle)\n",
    "triangle_df.show()"
   ],
   "metadata": {
    "collapsed": false,
    "ExecuteTime": {
     "end_time": "2023-11-05T19:20:33.079556700Z",
     "start_time": "2023-11-05T19:20:16.531309500Z"
    }
   },
   "id": "cd9960cce42bc872"
  },
  {
   "cell_type": "code",
   "execution_count": 3,
   "outputs": [
    {
     "name": "stderr",
     "output_type": "stream",
     "text": [
      "                                                                                \r"
     ]
    },
    {
     "name": "stdout",
     "output_type": "stream",
     "text": [
      "+---+---+---+--------+\n",
      "|  x|  y|  z|triangle|\n",
      "+---+---+---+--------+\n",
      "| 13| 15| 30|      No|\n",
      "| 10| 20| 15|     Yes|\n",
      "+---+---+---+--------+\n"
     ]
    }
   ],
   "source": [
    "# in spark Dataframe\n",
    "\n",
    "from pyspark.sql.types import StringType\n",
    "\n",
    "\n",
    "def is_triangle(x, y, z):\n",
    "    if x + y > z and x + z > y and y + z > x:\n",
    "        return \"Yes\"\n",
    "    return \"No\"\n",
    "\n",
    "\n",
    "udf_is_triangle = F.udf(is_triangle, StringType())\n",
    "\n",
    "triangle_df.withColumn('triangle', udf_is_triangle('x','y','z')).show()"
   ],
   "metadata": {
    "collapsed": false,
    "ExecuteTime": {
     "end_time": "2023-11-05T19:20:35.930377900Z",
     "start_time": "2023-11-05T19:20:33.076910700Z"
    }
   },
   "id": "3c4066ea4bd46156"
  },
  {
   "cell_type": "code",
   "execution_count": 4,
   "outputs": [
    {
     "name": "stdout",
     "output_type": "stream",
     "text": [
      "+---+---+---+--------+\n",
      "|  x|  y|  z|triangle|\n",
      "+---+---+---+--------+\n",
      "| 13| 15| 30|      No|\n",
      "| 10| 20| 15|     Yes|\n",
      "+---+---+---+--------+\n"
     ]
    }
   ],
   "source": [
    "# In spark SQL\n",
    "\n",
    "triangle_df.createOrReplaceTempView('triangle')\n",
    "spark.udf.register('udf_is_triangle',udf_is_triangle)\n",
    "\n",
    "spark.sql('''\n",
    "select x,y,z, udf_is_triangle(x,y,z) as triangle from triangle;\n",
    "''').show()"
   ],
   "metadata": {
    "collapsed": false,
    "ExecuteTime": {
     "end_time": "2023-11-05T19:20:37.426824700Z",
     "start_time": "2023-11-05T19:20:35.909490100Z"
    }
   },
   "id": "5a7bf257200245f3"
  },
  {
   "cell_type": "code",
   "execution_count": 5,
   "outputs": [],
   "source": [
    "spark.stop()"
   ],
   "metadata": {
    "collapsed": false,
    "ExecuteTime": {
     "end_time": "2023-11-05T19:20:38.346162600Z",
     "start_time": "2023-11-05T19:20:37.410624800Z"
    }
   },
   "id": "a429722809f4abfb"
  },
  {
   "cell_type": "code",
   "execution_count": 5,
   "outputs": [],
   "source": [],
   "metadata": {
    "collapsed": false,
    "ExecuteTime": {
     "end_time": "2023-11-05T19:20:38.422969700Z",
     "start_time": "2023-11-05T19:20:38.333330700Z"
    }
   },
   "id": "c52e6c678a66d6db"
  }
 ],
 "metadata": {
  "kernelspec": {
   "display_name": "Python 3",
   "language": "python",
   "name": "python3"
  },
  "language_info": {
   "codemirror_mode": {
    "name": "ipython",
    "version": 2
   },
   "file_extension": ".py",
   "mimetype": "text/x-python",
   "name": "python",
   "nbconvert_exporter": "python",
   "pygments_lexer": "ipython2",
   "version": "2.7.6"
  }
 },
 "nbformat": 4,
 "nbformat_minor": 5
}
