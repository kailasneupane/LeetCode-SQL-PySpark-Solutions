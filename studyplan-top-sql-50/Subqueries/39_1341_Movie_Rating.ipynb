{
 "cells": [
  {
   "cell_type": "markdown",
   "source": [
    "# [1341. Movie Rating](https://leetcode.com/problems/movie-rating/description/?envType=study-plan-v2&envId=top-sql-50)"
   ],
   "metadata": {
    "collapsed": false
   },
   "id": "f873501ae0a75661"
  },
  {
   "cell_type": "markdown",
   "source": [
    "Table: Movies\n",
    "\n",
    "<pre>+---------------+---------+\n",
    "| Column Name   | Type    |\n",
    "+---------------+---------+\n",
    "| movie_id      | int     |\n",
    "| title         | varchar |\n",
    "+---------------+---------+</pre>\n",
    "movie_id is the primary key (column with unique values) for this table.\n",
    "title is the name of the movie.\n",
    " \n",
    "\n",
    "Table: Users\n",
    "\n",
    "<pre>+---------------+---------+\n",
    "| Column Name   | Type    |\n",
    "+---------------+---------+\n",
    "| user_id       | int     |\n",
    "| name          | varchar |\n",
    "+---------------+---------+</pre>\n",
    "user_id is the primary key (column with unique values) for this table.\n",
    " \n",
    "\n",
    "Table: MovieRating\n",
    "\n",
    "<pre>+---------------+---------+\n",
    "| Column Name   | Type    |\n",
    "+---------------+---------+\n",
    "| movie_id      | int     |\n",
    "| user_id       | int     |\n",
    "| rating        | int     |\n",
    "| created_at    | date    |\n",
    "+---------------+---------+</pre>\n",
    "(movie_id, user_id) is the primary key (column with unique values) for this table.\n",
    "This table contains the rating of a movie by a user in their review.\n",
    "created_at is the user's review date. \n",
    " \n",
    "\n",
    "Write a solution to:\n",
    "\n",
    "Find the name of the user who has rated the greatest number of movies. In case of a tie, return the lexicographically smaller user name.\n",
    "Find the movie name with the highest average rating in February 2020. In case of a tie, return the lexicographically smaller movie name.\n",
    "The result format is in the following example.\n",
    "\n",
    " \n",
    "\n",
    "Example 1:\n",
    "\n",
    "Input: \n",
    "Movies table:\n",
    "<pre>+-------------+--------------+\n",
    "| movie_id    |  title       |\n",
    "+-------------+--------------+\n",
    "| 1           | Avengers     |\n",
    "| 2           | Frozen 2     |\n",
    "| 3           | Joker        |\n",
    "+-------------+--------------+</pre>\n",
    "Users table:\n",
    "<pre>+-------------+--------------+\n",
    "| user_id     |  name        |\n",
    "+-------------+--------------+\n",
    "| 1           | Daniel       |\n",
    "| 2           | Monica       |\n",
    "| 3           | Maria        |\n",
    "| 4           | James        |\n",
    "+-------------+--------------+</pre>\n",
    "MovieRating table:\n",
    "<pre>+-------------+--------------+--------------+-------------+\n",
    "| movie_id    | user_id      | rating       | created_at  |\n",
    "+-------------+--------------+--------------+-------------+\n",
    "| 1           | 1            | 3            | 2020-01-12  |\n",
    "| 1           | 2            | 4            | 2020-02-11  |\n",
    "| 1           | 3            | 2            | 2020-02-12  |\n",
    "| 1           | 4            | 1            | 2020-01-01  |\n",
    "| 2           | 1            | 5            | 2020-02-17  | \n",
    "| 2           | 2            | 2            | 2020-02-01  | \n",
    "| 2           | 3            | 2            | 2020-03-01  |\n",
    "| 3           | 1            | 3            | 2020-02-22  | \n",
    "| 3           | 2            | 4            | 2020-02-25  | \n",
    "+-------------+--------------+--------------+-------------+</pre>\n",
    "Output: \n",
    "<pre>+--------------+\n",
    "| results      |\n",
    "+--------------+\n",
    "| Daniel       |\n",
    "| Frozen 2     |\n",
    "+--------------+</pre>\n",
    "Explanation: \n",
    "Daniel and Monica have rated 3 movies (\"Avengers\", \"Frozen 2\" and \"Joker\") but Daniel is smaller lexicographically.\n",
    "Frozen 2 and Joker have a rating average of 3.5 in February but Frozen 2 is smaller lexicographically."
   ],
   "metadata": {
    "collapsed": false
   },
   "id": "78323a4a69fa47c6"
  },
  {
   "cell_type": "code",
   "execution_count": 1,
   "outputs": [],
   "source": [
    "# Pandas schema\n",
    "import pandas as pd\n",
    "\n",
    "data = [[1, 'Avengers'], [2, 'Frozen 2'], [3, 'Joker']]\n",
    "movies = pd.DataFrame(data, columns=['movie_id', 'title']).astype({'movie_id': 'Int64', 'title': 'object'})\n",
    "data = [[1, 'Daniel'], [2, 'Monica'], [3, 'Maria'], [4, 'James']]\n",
    "users = pd.DataFrame(data, columns=['user_id', 'name']).astype({'user_id': 'Int64', 'name': 'object'})\n",
    "data = [[1, 1, 3, '2020-01-12'], [1, 2, 4, '2020-02-11'], [1, 3, 2, '2020-02-12'], [1, 4, 1, '2020-01-01'],\n",
    "        [2, 1, 5, '2020-02-17'], [2, 2, 2, '2020-02-01'], [2, 3, 2, '2020-03-01'], [3, 1, 3, '2020-02-22'],\n",
    "        [3, 2, 4, '2020-02-25']]\n",
    "movie_rating = pd.DataFrame(data, columns=['movie_id', 'user_id', 'rating', 'created_at']).astype(\n",
    "    {'movie_id': 'Int64', 'user_id': 'Int64', 'rating': 'Int64', 'created_at': 'datetime64[ns]'})"
   ],
   "metadata": {
    "collapsed": false,
    "ExecuteTime": {
     "end_time": "2023-11-06T02:12:31.501971500Z",
     "start_time": "2023-11-06T02:12:30.561513200Z"
    }
   },
   "id": "91141a119b34e3c6"
  },
  {
   "cell_type": "code",
   "execution_count": 2,
   "outputs": [
    {
     "name": "stderr",
     "output_type": "stream",
     "text": [
      "bash: warning: setlocale: LC_ALL: cannot change locale (en_US.UTF-8)\n",
      "bash: warning: setlocale: LC_ALL: cannot change locale (en_US.UTF-8)\n",
      "23/11/05 17:58:40 WARN Utils: Your hostname, svchost resolves to a loopback address: 127.0.1.1; using 172.18.28.34 instead (on interface eth0)\n",
      "23/11/05 17:58:40 WARN Utils: Set SPARK_LOCAL_IP if you need to bind to another address\n",
      "Setting default log level to \"WARN\".\n",
      "To adjust logging level use sc.setLogLevel(newLevel). For SparkR, use setLogLevel(newLevel).\n",
      "23/11/05 17:58:42 WARN NativeCodeLoader: Unable to load native-hadoop library for your platform... using builtin-java classes where applicable\n"
     ]
    }
   ],
   "source": [
    "#to spark dataframe\n",
    "from pyspark.sql import SparkSession\n",
    "\n",
    "spark = SparkSession.builder.getOrCreate()\n",
    "\n",
    "movies_df = spark.createDataFrame(movies)\n",
    "users_df = spark.createDataFrame(users)\n",
    "movie_rating_df = spark.createDataFrame(movie_rating)"
   ],
   "metadata": {
    "collapsed": false,
    "ExecuteTime": {
     "end_time": "2023-11-06T02:12:43.857807800Z",
     "start_time": "2023-11-06T02:12:31.453052200Z"
    }
   },
   "id": "323e5695356370ed"
  },
  {
   "cell_type": "code",
   "execution_count": 3,
   "outputs": [
    {
     "name": "stderr",
     "output_type": "stream",
     "text": [
      "                                                                                \r"
     ]
    },
    {
     "name": "stdout",
     "output_type": "stream",
     "text": [
      "+--------+--------+\n",
      "|movie_id|   title|\n",
      "+--------+--------+\n",
      "|       1|Avengers|\n",
      "|       2|Frozen 2|\n",
      "|       3|   Joker|\n",
      "+--------+--------+\n"
     ]
    }
   ],
   "source": [
    "movies_df.show()"
   ],
   "metadata": {
    "collapsed": false,
    "ExecuteTime": {
     "end_time": "2023-11-06T02:12:48.202274100Z",
     "start_time": "2023-11-06T02:12:43.857807800Z"
    }
   },
   "id": "5e9ea415d785d4a3"
  },
  {
   "cell_type": "code",
   "execution_count": 4,
   "outputs": [
    {
     "name": "stdout",
     "output_type": "stream",
     "text": [
      "+-------+------+\n",
      "|user_id|  name|\n",
      "+-------+------+\n",
      "|      1|Daniel|\n",
      "|      2|Monica|\n",
      "|      3| Maria|\n",
      "|      4| James|\n",
      "+-------+------+\n"
     ]
    }
   ],
   "source": [
    "users_df.show()"
   ],
   "metadata": {
    "collapsed": false,
    "ExecuteTime": {
     "end_time": "2023-11-06T02:12:49.214444400Z",
     "start_time": "2023-11-06T02:12:48.191757900Z"
    }
   },
   "id": "48e712edd9b184a3"
  },
  {
   "cell_type": "code",
   "execution_count": 5,
   "outputs": [
    {
     "name": "stdout",
     "output_type": "stream",
     "text": [
      "+--------+-------+------+-------------------+\n",
      "|movie_id|user_id|rating|         created_at|\n",
      "+--------+-------+------+-------------------+\n",
      "|       1|      1|     3|2020-01-12 00:00:00|\n",
      "|       1|      2|     4|2020-02-11 00:00:00|\n",
      "|       1|      3|     2|2020-02-12 00:00:00|\n",
      "|       1|      4|     1|2020-01-01 00:00:00|\n",
      "|       2|      1|     5|2020-02-17 00:00:00|\n",
      "|       2|      2|     2|2020-02-01 00:00:00|\n",
      "|       2|      3|     2|2020-03-01 00:00:00|\n",
      "|       3|      1|     3|2020-02-22 00:00:00|\n",
      "|       3|      2|     4|2020-02-25 00:00:00|\n",
      "+--------+-------+------+-------------------+\n"
     ]
    }
   ],
   "source": [
    "movie_rating_df.show()"
   ],
   "metadata": {
    "collapsed": false,
    "ExecuteTime": {
     "end_time": "2023-11-06T02:12:50.333683900Z",
     "start_time": "2023-11-06T02:12:49.208632100Z"
    }
   },
   "id": "71b857639266de62"
  },
  {
   "cell_type": "code",
   "execution_count": 6,
   "outputs": [
    {
     "name": "stderr",
     "output_type": "stream",
     "text": [
      "                                                                                \r"
     ]
    },
    {
     "name": "stdout",
     "output_type": "stream",
     "text": [
      "+-------+\n",
      "|results|\n",
      "+-------+\n",
      "| Daniel|\n",
      "+-------+\n"
     ]
    }
   ],
   "source": [
    "from pyspark.sql import Window\n",
    "import pyspark.sql.functions as F\n",
    "\n",
    "# Solving in spark dataframe\n",
    "\n",
    "# working for the user who has rated the greatest number of movies.\n",
    "\n",
    "name_df = movie_rating_df\\\n",
    "    .groupBy('user_id').agg(F.count('user_id').alias('rating_count'))\\\n",
    "    .join(users_df,on=['user_id'])\\\n",
    "    .orderBy(F.col('rating_count').desc(),F.col('name').asc())\\\n",
    "    .limit(1)\\\n",
    "    .select(F.col('name').alias('results'))\n",
    "name_df.show()"
   ],
   "metadata": {
    "collapsed": false,
    "ExecuteTime": {
     "end_time": "2023-11-06T02:12:52.966419600Z",
     "start_time": "2023-11-06T02:12:50.324561400Z"
    }
   },
   "id": "520445ed4a2ca57e"
  },
  {
   "cell_type": "code",
   "execution_count": 7,
   "outputs": [
    {
     "name": "stderr",
     "output_type": "stream",
     "text": [
      "                                                                                \r"
     ]
    },
    {
     "name": "stdout",
     "output_type": "stream",
     "text": [
      "+--------+\n",
      "| results|\n",
      "+--------+\n",
      "|Frozen 2|\n",
      "+--------+\n"
     ]
    }
   ],
   "source": [
    "# working for the movie name with the highest average rating in February 2020.\n",
    "\n",
    "avg_rating_df = movie_rating_df\\\n",
    "    .filter(F.substring('created_at',0,7)=='2020-02')\\\n",
    "    .groupBy('movie_id').agg(F.avg('rating').alias('avg_rating'))\\\n",
    "    .join(movies_df,on=['movie_id'])\\\n",
    "    .orderBy(F.col('avg_rating').desc(),F.col('title').asc())\\\n",
    "    .limit(1)\\\n",
    "    .select(F.col('title').alias('results'))\n",
    "avg_rating_df.show()"
   ],
   "metadata": {
    "collapsed": false,
    "ExecuteTime": {
     "end_time": "2023-11-06T02:12:54.531254400Z",
     "start_time": "2023-11-06T02:12:52.959873700Z"
    }
   },
   "id": "db3727e2ba8e938e"
  },
  {
   "cell_type": "code",
   "execution_count": 8,
   "outputs": [
    {
     "name": "stderr",
     "output_type": "stream",
     "text": [
      "                                                                                \r"
     ]
    },
    {
     "name": "stdout",
     "output_type": "stream",
     "text": [
      "+--------+\n",
      "| results|\n",
      "+--------+\n",
      "|  Daniel|\n",
      "|Frozen 2|\n",
      "+--------+\n"
     ]
    }
   ],
   "source": [
    "# combining\n",
    "final_df = name_df.unionAll(avg_rating_df)\n",
    "final_df.show()"
   ],
   "metadata": {
    "collapsed": false,
    "ExecuteTime": {
     "end_time": "2023-11-06T02:12:56.719381400Z",
     "start_time": "2023-11-06T02:12:54.517051600Z"
    }
   },
   "id": "a7a6b97dab89331"
  },
  {
   "cell_type": "code",
   "execution_count": 9,
   "outputs": [
    {
     "name": "stderr",
     "output_type": "stream",
     "text": [
      "                                                                                \r"
     ]
    },
    {
     "name": "stdout",
     "output_type": "stream",
     "text": [
      "+--------+\n",
      "| results|\n",
      "+--------+\n",
      "|  Daniel|\n",
      "|Frozen 2|\n",
      "+--------+\n"
     ]
    }
   ],
   "source": [
    "# In spark SQL\n",
    "\n",
    "movies_df.createOrReplaceTempView('movies')\n",
    "movie_rating_df.createOrReplaceTempView('MovieRating')\n",
    "users_df.createOrReplaceTempView('users')\n",
    "\n",
    "spark.sql('''\n",
    "-- working for the user who has rated the greatest number of movies.\n",
    "select results from (\n",
    "select name as results\n",
    "from (select user_id,count(user_id) as user_count \n",
    "        from MovieRating\n",
    "        group by user_id\n",
    "    ) t1 \n",
    "left join users on\n",
    "t1.user_id=users.user_id\n",
    "order by user_count desc, name asc\n",
    "limit 1) r1\n",
    "\n",
    "union all\n",
    "\n",
    "-- working for the user who has rated the greatest number of movies.\n",
    "select results from (\n",
    "select title as results \n",
    "from (select movie_id,avg(rating) as avg_rating \n",
    "        from MovieRating \n",
    "        where left(created_at,7)='2020-02' group by movie_id\n",
    "    ) t1\n",
    "left join movies on\n",
    "movies.movie_id = t1.movie_id\n",
    "order by avg_rating desc, title asc\n",
    "limit 1) r2;\n",
    "''').show()"
   ],
   "metadata": {
    "collapsed": false,
    "ExecuteTime": {
     "end_time": "2023-11-06T02:12:59.238538900Z",
     "start_time": "2023-11-06T02:12:56.709009500Z"
    }
   },
   "id": "1e7cafbb7645a8ec"
  },
  {
   "cell_type": "code",
   "execution_count": 10,
   "outputs": [],
   "source": [
    "spark.stop()"
   ],
   "metadata": {
    "collapsed": false,
    "ExecuteTime": {
     "end_time": "2023-11-06T02:13:00.162595500Z",
     "start_time": "2023-11-06T02:12:59.221197600Z"
    }
   },
   "id": "73d8e85a1e3407c4"
  }
 ],
 "metadata": {
  "kernelspec": {
   "display_name": "Python 3",
   "language": "python",
   "name": "python3"
  },
  "language_info": {
   "codemirror_mode": {
    "name": "ipython",
    "version": 2
   },
   "file_extension": ".py",
   "mimetype": "text/x-python",
   "name": "python",
   "nbconvert_exporter": "python",
   "pygments_lexer": "ipython2",
   "version": "2.7.6"
  }
 },
 "nbformat": 4,
 "nbformat_minor": 5
}
