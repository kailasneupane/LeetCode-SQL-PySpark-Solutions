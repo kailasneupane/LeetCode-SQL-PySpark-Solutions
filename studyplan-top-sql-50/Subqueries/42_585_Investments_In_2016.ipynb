{
 "cells": [
  {
   "cell_type": "markdown",
   "source": [
    "# [585. Investments in 2016](https://leetcode.com/problems/investments-in-2016/description/?envType=study-plan-v2&envId=top-sql-50)"
   ],
   "metadata": {
    "collapsed": false
   },
   "id": "71e6a680c152c714"
  },
  {
   "cell_type": "markdown",
   "source": [
    "Table: Insurance\n",
    "\n",
    "<pre>+-------------+-------+\n",
    "| Column Name | Type  |\n",
    "+-------------+-------+\n",
    "| pid         | int   |\n",
    "| tiv_2015    | float |\n",
    "| tiv_2016    | float |\n",
    "| lat         | float |\n",
    "| lon         | float |\n",
    "+-------------+-------+</pre>\n",
    "pid is the primary key (column with unique values) for this table.\n",
    "Each row of this table contains information about one policy where:\n",
    "pid is the policyholder's policy ID.\n",
    "tiv_2015 is the total investment value in 2015 and tiv_2016 is the total investment value in 2016.\n",
    "lat is the latitude of the policy holder's city. It's guaranteed that lat is not NULL.\n",
    "lon is the longitude of the policy holder's city. It's guaranteed that lon is not NULL.\n",
    " \n",
    "\n",
    "Write a solution to report the sum of all total investment values in 2016 tiv_2016, for all policyholders who:\n",
    "\n",
    "have the same tiv_2015 value as one or more other policyholders, and\n",
    "are not located in the same city as any other policyholder (i.e., the (lat, lon) attribute pairs must be unique).\n",
    "Round tiv_2016 to two decimal places.\n",
    "\n",
    "The result format is in the following example.\n",
    "\n",
    "Example 1:\n",
    "\n",
    "Input: \n",
    "Insurance table:\n",
    "<pre>+-----+----------+----------+-----+-----+\n",
    "| pid | tiv_2015 | tiv_2016 | lat | lon |\n",
    "+-----+----------+----------+-----+-----+\n",
    "| 1   | 10       | 5        | 10  | 10  |\n",
    "| 2   | 20       | 20       | 20  | 20  |\n",
    "| 3   | 10       | 30       | 20  | 20  |\n",
    "| 4   | 10       | 40       | 40  | 40  |\n",
    "+-----+----------+----------+-----+-----+</pre>\n",
    "Output: \n",
    "<pre>+----------+\n",
    "| tiv_2016 |\n",
    "+----------+\n",
    "| 45.00    |\n",
    "+----------+</pre>\n",
    "Explanation: \n",
    "The first record in the table, like the last record, meets both of the two criteria.\n",
    "The tiv_2015 value 10 is the same as the third and fourth records, and its location is unique.\n",
    "\n",
    "The second record does not meet any of the two criteria. Its tiv_2015 is not like any other policyholders and its location is the same as the third record, which makes the third record fail, too.\n",
    "So, the result is the sum of tiv_2016 of the first and last record, which is 45."
   ],
   "metadata": {
    "collapsed": false
   },
   "id": "8f6260f0f3850b5c"
  },
  {
   "cell_type": "code",
   "execution_count": 1,
   "outputs": [],
   "source": [
    "# pandas schema\n",
    "\n",
    "import pandas as pd\n",
    "\n",
    "data = [[1, 10, 5, 10, 10], [2, 20, 20, 20, 20], [3, 10, 30, 20, 20], [4, 10, 40, 40, 40]]\n",
    "insurance = pd.DataFrame(data, columns=['pid', 'tiv_2015', 'tiv_2016', 'lat', 'lon']).astype(\n",
    "    {'pid': 'Int64', 'tiv_2015': 'Float64', 'tiv_2016': 'Float64', 'lat': 'Float64', 'lon': 'Float64'})"
   ],
   "metadata": {
    "collapsed": false,
    "ExecuteTime": {
     "end_time": "2023-11-07T04:09:44.887759600Z",
     "start_time": "2023-11-07T04:09:43.874374Z"
    }
   },
   "id": "2587c5396b8973bd"
  },
  {
   "cell_type": "code",
   "execution_count": 2,
   "outputs": [
    {
     "name": "stderr",
     "output_type": "stream",
     "text": [
      "bash: warning: setlocale: LC_ALL: cannot change locale (en_US.UTF-8)\n",
      "bash: warning: setlocale: LC_ALL: cannot change locale (en_US.UTF-8)\n",
      "23/11/06 16:09:47 WARN Utils: Your hostname, svchost resolves to a loopback address: 127.0.1.1; using 172.18.28.34 instead (on interface eth0)\n",
      "23/11/06 16:09:47 WARN Utils: Set SPARK_LOCAL_IP if you need to bind to another address\n",
      "Setting default log level to \"WARN\".\n",
      "To adjust logging level use sc.setLogLevel(newLevel). For SparkR, use setLogLevel(newLevel).\n",
      "23/11/06 16:09:49 WARN NativeCodeLoader: Unable to load native-hadoop library for your platform... using builtin-java classes where applicable\n",
      "                                                                                \r"
     ]
    },
    {
     "name": "stdout",
     "output_type": "stream",
     "text": [
      "+---+--------+--------+----+----+\n",
      "|pid|tiv_2015|tiv_2016|lat |lon |\n",
      "+---+--------+--------+----+----+\n",
      "|1  |10.0    |5.0     |10.0|10.0|\n",
      "|2  |20.0    |20.0    |20.0|20.0|\n",
      "|3  |10.0    |30.0    |20.0|20.0|\n",
      "|4  |10.0    |40.0    |40.0|40.0|\n",
      "+---+--------+--------+----+----+\n"
     ]
    }
   ],
   "source": [
    "# pandas df to pyspark df\n",
    "\n",
    "import pyspark.sql.functions as F\n",
    "from pyspark.sql import SparkSession\n",
    "\n",
    "spark = SparkSession.builder.getOrCreate()\n",
    "\n",
    "insurance_df = spark.createDataFrame(insurance)\n",
    "insurance_df.show(truncate=False)"
   ],
   "metadata": {
    "collapsed": false,
    "ExecuteTime": {
     "end_time": "2023-11-07T04:10:03.252705800Z",
     "start_time": "2023-11-07T04:09:44.887759600Z"
    }
   },
   "id": "8c663f5298db7b3b"
  },
  {
   "cell_type": "code",
   "execution_count": 3,
   "outputs": [
    {
     "name": "stdout",
     "output_type": "stream",
     "text": [
      "+--------+\n",
      "|tiv_2016|\n",
      "+--------+\n",
      "|    45.0|\n",
      "+--------+\n"
     ]
    }
   ],
   "source": [
    "from pyspark.sql.window import Window\n",
    "\n",
    "# in Spark Dataframe\n",
    "\n",
    "insurance_df.withColumn('filter_location', F.count(F.concat(F.col('lat'), F.col('lon')))\n",
    "                        .over(Window.partitionBy(F.concat(F.col('lat'), F.col('lon'))))). \\\n",
    "    withColumn('filter_location', F.col('filter_location') == 1). \\\n",
    "    withColumn('filter_tiv_2015', F.count('tiv_2015').over(Window.partitionBy('tiv_2015'))). \\\n",
    "    withColumn('filter_tiv_2015', F.col('filter_tiv_2015') > 1). \\\n",
    "    filter((F.col('filter_tiv_2015') == True) & (F.col('filter_location') == True)). \\\n",
    "    agg(F.round(F.sum('tiv_2016'), 2).alias('tiv_2016')).show()"
   ],
   "metadata": {
    "collapsed": false,
    "ExecuteTime": {
     "end_time": "2023-11-07T04:10:06.296904300Z",
     "start_time": "2023-11-07T04:10:03.250432700Z"
    }
   },
   "id": "d3efeacb8223b679"
  },
  {
   "cell_type": "code",
   "execution_count": 4,
   "outputs": [
    {
     "name": "stdout",
     "output_type": "stream",
     "text": [
      "+--------+\n",
      "|tiv_2016|\n",
      "+--------+\n",
      "|    45.0|\n",
      "+--------+\n"
     ]
    }
   ],
   "source": [
    "# in Spark SQL\n",
    "\n",
    "insurance_df.createOrReplaceTempView('insurance')\n",
    "spark.sql('''\n",
    "select round(sum(tiv_2016),2) as tiv_2016 from \n",
    "(\n",
    "select \n",
    "    *,\n",
    "    count(tiv_2015) over (partition by tiv_2015) as filter_tiv_2015,\n",
    "    count(concat(lat,lon)) over (partition by concat(lat,lon)) as filter_location\n",
    "from insurance\n",
    ") i where filter_tiv_2015>1 and filter_location=1\n",
    "''').show()"
   ],
   "metadata": {
    "collapsed": false,
    "ExecuteTime": {
     "end_time": "2023-11-07T04:10:07.892009700Z",
     "start_time": "2023-11-07T04:10:06.280213600Z"
    }
   },
   "id": "36134f88b7d1be7d"
  },
  {
   "cell_type": "code",
   "execution_count": 5,
   "outputs": [],
   "source": [
    "spark.stop()"
   ],
   "metadata": {
    "collapsed": false,
    "ExecuteTime": {
     "end_time": "2023-11-07T04:10:08.704062800Z",
     "start_time": "2023-11-07T04:10:07.876408800Z"
    }
   },
   "id": "b7b086f22ce002ad"
  }
 ],
 "metadata": {
  "kernelspec": {
   "display_name": "Python 3",
   "language": "python",
   "name": "python3"
  },
  "language_info": {
   "codemirror_mode": {
    "name": "ipython",
    "version": 2
   },
   "file_extension": ".py",
   "mimetype": "text/x-python",
   "name": "python",
   "nbconvert_exporter": "python",
   "pygments_lexer": "ipython2",
   "version": "2.7.6"
  }
 },
 "nbformat": 4,
 "nbformat_minor": 5
}
