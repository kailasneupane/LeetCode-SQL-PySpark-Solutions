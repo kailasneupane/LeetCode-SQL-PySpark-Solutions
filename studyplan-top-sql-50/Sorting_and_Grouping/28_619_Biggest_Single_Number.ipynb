{
 "cells": [
  {
   "cell_type": "markdown",
   "source": [
    "# [619. Biggest Single Number](https://leetcode.com/problems/biggest-single-number/?envType=study-plan-v2&envId=top-sql-50)"
   ],
   "metadata": {
    "collapsed": false
   },
   "id": "5e899b51a77769af"
  },
  {
   "cell_type": "markdown",
   "source": [
    "Table: MyNumbers\n",
    "\n",
    "<pre>+-------------+------+\n",
    "| Column Name | Type |\n",
    "+-------------+------+\n",
    "| num         | int  |\n",
    "+-------------+------+</pre>\n",
    "This table may contain duplicates (In other words, there is no primary key for this table in SQL).\n",
    "Each row of this table contains an integer.\n",
    " \n",
    "\n",
    "A single number is a number that appeared only once in the MyNumbers table.\n",
    "\n",
    "Find the largest single number. If there is no single number, report null.\n",
    "\n",
    "The result format is in the following example.\n",
    "\n",
    " \n",
    "\n",
    "Example 1:\n",
    "\n",
    "Input: \n",
    "MyNumbers table:\n",
    "<pre>+-----+\n",
    "| num |\n",
    "+-----+\n",
    "| 8   |\n",
    "| 8   |\n",
    "| 3   |\n",
    "| 3   |\n",
    "| 1   |\n",
    "| 4   |\n",
    "| 5   |\n",
    "| 6   |\n",
    "+-----+</pre>\n",
    "Output: \n",
    "<pre>+-----+\n",
    "| num |\n",
    "+-----+\n",
    "| 6   |\n",
    "+-----+</pre>\n",
    "Explanation: The single numbers are 1, 4, 5, and 6.\n",
    "Since 6 is the largest single number, we return it.\n",
    "Example 2:\n",
    "\n",
    "Input: \n",
    "MyNumbers table:\n",
    "<pre>+-----+\n",
    "| num |\n",
    "+-----+\n",
    "| 8   |\n",
    "| 8   |\n",
    "| 7   |\n",
    "| 7   |\n",
    "| 3   |\n",
    "| 3   |\n",
    "| 3   |\n",
    "+-----+</pre>\n",
    "Output: \n",
    "<pre>+------+\n",
    "| num  |\n",
    "+------+\n",
    "| null |\n",
    "+------+</pre>\n",
    "Explanation: There are no single numbers in the input table so we return null."
   ],
   "metadata": {
    "collapsed": false
   },
   "id": "36bf1484791c4d2d"
  },
  {
   "cell_type": "code",
   "execution_count": 1,
   "outputs": [],
   "source": [
    "# pandas schema\n",
    "\n",
    "import pandas as pd\n",
    "\n",
    "data = [[8], [8], [3], [3], [1], [4], [5], [6]]  # first example\n",
    "#data = [[8], [8], [7], [7], [3], [3], [3]] # second example\n",
    "my_numbers = pd.DataFrame(data, columns=['num']).astype({'num': 'Int64'})"
   ],
   "metadata": {
    "collapsed": false,
    "ExecuteTime": {
     "end_time": "2023-11-12T00:09:09.032882300Z",
     "start_time": "2023-11-12T00:09:08.696358300Z"
    }
   },
   "id": "94a03419b5d4590b"
  },
  {
   "cell_type": "code",
   "execution_count": 2,
   "outputs": [
    {
     "name": "stderr",
     "output_type": "stream",
     "text": [
      "bash: warning: setlocale: LC_ALL: cannot change locale (en_US.UTF-8)\n",
      "bash: warning: setlocale: LC_ALL: cannot change locale (en_US.UTF-8)\n",
      "23/11/11 17:57:00 WARN Utils: Your hostname, svchost resolves to a loopback address: 127.0.1.1; using 172.18.28.34 instead (on interface eth0)\n",
      "23/11/11 17:57:00 WARN Utils: Set SPARK_LOCAL_IP if you need to bind to another address\n",
      "Setting default log level to \"WARN\".\n",
      "To adjust logging level use sc.setLogLevel(newLevel). For SparkR, use setLogLevel(newLevel).\n",
      "23/11/11 17:57:02 WARN NativeCodeLoader: Unable to load native-hadoop library for your platform... using builtin-java classes where applicable\n",
      "                                                                                \r"
     ]
    },
    {
     "name": "stdout",
     "output_type": "stream",
     "text": [
      "+---+\n",
      "|num|\n",
      "+---+\n",
      "|  8|\n",
      "|  8|\n",
      "|  3|\n",
      "|  3|\n",
      "|  1|\n",
      "|  4|\n",
      "|  5|\n",
      "|  6|\n",
      "+---+\n"
     ]
    }
   ],
   "source": [
    "#converting to spark dataframe\n",
    "from pyspark.sql import SparkSession\n",
    "import pyspark.sql.functions as F\n",
    "\n",
    "spark = SparkSession.builder.getOrCreate()\n",
    "\n",
    "my_numbers_df = spark.createDataFrame(my_numbers)\n",
    "my_numbers_df.show()"
   ],
   "metadata": {
    "collapsed": false,
    "ExecuteTime": {
     "end_time": "2023-11-12T00:09:21.306425800Z",
     "start_time": "2023-11-12T00:09:09.037642900Z"
    }
   },
   "id": "45b6bd47c50768c0"
  },
  {
   "cell_type": "code",
   "execution_count": 3,
   "outputs": [
    {
     "name": "stdout",
     "output_type": "stream",
     "text": [
      "+---+\n",
      "|num|\n",
      "+---+\n",
      "|  6|\n",
      "+---+\n"
     ]
    }
   ],
   "source": [
    "# solving in spark dataframe\n",
    "\n",
    "my_numbers_df \\\n",
    "    .groupBy('num') \\\n",
    "    .agg(F.count('num').alias('count')) \\\n",
    "    .filter(F.col('count') == 1) \\\n",
    "    .agg(F.max('num').alias('num')) \\\n",
    "    .show()"
   ],
   "metadata": {
    "collapsed": false,
    "ExecuteTime": {
     "end_time": "2023-11-12T00:09:23.045781900Z",
     "start_time": "2023-11-12T00:09:21.302112Z"
    }
   },
   "id": "fd07bb39e984c309"
  },
  {
   "cell_type": "code",
   "execution_count": 4,
   "outputs": [
    {
     "name": "stdout",
     "output_type": "stream",
     "text": [
      "+---+\n",
      "|num|\n",
      "+---+\n",
      "|  6|\n",
      "+---+\n"
     ]
    }
   ],
   "source": [
    "# solving in spark SQL\n",
    "\n",
    "my_numbers_df.createOrReplaceTempView('MyNumbers')\n",
    "\n",
    "spark.sql('''\n",
    "select max(t.num) as num\n",
    "from (\n",
    "    select num\n",
    "    from mynumbers\n",
    "    group by num\n",
    "    having count(num)=1\n",
    ") t;\n",
    "''').show()"
   ],
   "metadata": {
    "collapsed": false,
    "ExecuteTime": {
     "end_time": "2023-11-12T00:09:23.985415100Z",
     "start_time": "2023-11-12T00:09:23.041143200Z"
    }
   },
   "id": "4b3556be60d7b8d0"
  },
  {
   "cell_type": "code",
   "execution_count": 5,
   "outputs": [],
   "source": [
    "spark.stop()"
   ],
   "metadata": {
    "collapsed": false,
    "ExecuteTime": {
     "end_time": "2023-11-12T00:09:24.831976800Z",
     "start_time": "2023-11-12T00:09:23.980729900Z"
    }
   },
   "id": "5fd4bbf0906c2397"
  }
 ],
 "metadata": {
  "kernelspec": {
   "display_name": "Python 3",
   "language": "python",
   "name": "python3"
  },
  "language_info": {
   "codemirror_mode": {
    "name": "ipython",
    "version": 2
   },
   "file_extension": ".py",
   "mimetype": "text/x-python",
   "name": "python",
   "nbconvert_exporter": "python",
   "pygments_lexer": "ipython2",
   "version": "2.7.6"
  }
 },
 "nbformat": 4,
 "nbformat_minor": 5
}
