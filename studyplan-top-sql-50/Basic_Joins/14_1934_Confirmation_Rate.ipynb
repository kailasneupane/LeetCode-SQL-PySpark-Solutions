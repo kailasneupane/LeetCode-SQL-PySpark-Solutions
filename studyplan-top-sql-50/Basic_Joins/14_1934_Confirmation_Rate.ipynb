{
 "cells": [
  {
   "cell_type": "markdown",
   "source": [
    "# [1934. Confirmation Rate](https://leetcode.com/problems/confirmation-rate/description/?envType=study-plan-v2&envId=top-sql-50)"
   ],
   "metadata": {
    "collapsed": false
   },
   "id": "7b89f5d7b832c834"
  },
  {
   "cell_type": "markdown",
   "source": [
    "Table: Signups\n",
    "<pre>+----------------+----------+\n",
    "| Column Name    | Type     |\n",
    "+----------------+----------+\n",
    "| user_id        | int      |\n",
    "| time_stamp     | datetime |\n",
    "+----------------+----------+</pre>\n",
    "user_id is the column of unique values for this table.\n",
    "Each row contains information about the signup time for the user with ID user_id.\n",
    " \n",
    "\n",
    "Table: Confirmations\n",
    "\n",
    "<pre>+----------------+----------+\n",
    "| Column Name    | Type     |\n",
    "+----------------+----------+\n",
    "| user_id        | int      |\n",
    "| time_stamp     | datetime |\n",
    "| action         | ENUM     |\n",
    "+----------------+----------+</pre>\n",
    "(user_id, time_stamp) is the primary key (combination of columns with unique values) for this table.\n",
    "user_id is a foreign key (reference column) to the Signups table.\n",
    "action is an ENUM (category) of the type ('confirmed', 'timeout')\n",
    "Each row of this table indicates that the user with ID user_id requested a confirmation message at time_stamp and that confirmation message was either confirmed ('confirmed') or expired without confirming ('timeout').\n",
    " \n",
    "\n",
    "The confirmation rate of a user is the number of 'confirmed' messages divided by the total number of requested confirmation messages. The confirmation rate of a user that did not request any confirmation messages is 0. Round the confirmation rate to two decimal places.\n",
    "\n",
    "Write a solution to find the confirmation rate of each user.\n",
    "\n",
    "Return the result table in any order.\n",
    "\n",
    "The result format is in the following example.\n",
    "\n",
    " \n",
    "\n",
    "Example 1:\n",
    "\n",
    "Input: \n",
    "Signups table:\n",
    "<pre>+---------+---------------------+\n",
    "| user_id | time_stamp          |\n",
    "+---------+---------------------+\n",
    "| 3       | 2020-03-21 10:16:13 |\n",
    "| 7       | 2020-01-04 13:57:59 |\n",
    "| 2       | 2020-07-29 23:09:44 |\n",
    "| 6       | 2020-12-09 10:39:37 |\n",
    "+---------+---------------------+</pre>\n",
    "Confirmations table:\n",
    "<pre>+---------+---------------------+-----------+\n",
    "| user_id | time_stamp          | action    |\n",
    "+---------+---------------------+-----------+\n",
    "| 3       | 2021-01-06 03:30:46 | timeout   |\n",
    "| 3       | 2021-07-14 14:00:00 | timeout   |\n",
    "| 7       | 2021-06-12 11:57:29 | confirmed |\n",
    "| 7       | 2021-06-13 12:58:28 | confirmed |\n",
    "| 7       | 2021-06-14 13:59:27 | confirmed |\n",
    "| 2       | 2021-01-22 00:00:00 | confirmed |\n",
    "| 2       | 2021-02-28 23:59:59 | timeout   |\n",
    "+---------+---------------------+-----------+</pre>\n",
    "Output: \n",
    "<pre>+---------+-------------------+\n",
    "| user_id | confirmation_rate |\n",
    "+---------+-------------------+\n",
    "| 6       | 0.00              |\n",
    "| 3       | 0.00              |\n",
    "| 7       | 1.00              |\n",
    "| 2       | 0.50              |\n",
    "+---------+-------------------+</pre>\n",
    "Explanation: \n",
    "User 6 did not request any confirmation messages. The confirmation rate is 0.\n",
    "User 3 made 2 requests and both timed out. The confirmation rate is 0.\n",
    "User 7 made 3 requests and all were confirmed. The confirmation rate is 1.\n",
    "User 2 made 2 requests where one was confirmed and the other timed out. The confirmation rate is 1 / 2 = 0.5."
   ],
   "metadata": {
    "collapsed": false
   },
   "id": "b525d1918ed667a9"
  },
  {
   "cell_type": "code",
   "execution_count": 1,
   "outputs": [],
   "source": [
    "# Pandas schema\n",
    "\n",
    "import pandas as pd\n",
    "\n",
    "data = [[3, '2020-03-21 10:16:13'], [7, '2020-01-04 13:57:59'], [2, '2020-07-29 23:09:44'], [6, '2020-12-09 10:39:37']]\n",
    "signups = pd.DataFrame(data, columns=['user_id', 'time_stamp']).astype(\n",
    "    {'user_id': 'Int64', 'time_stamp': 'datetime64[ns]'})\n",
    "data = [[3, '2021-01-06 03:30:46', 'timeout'], [3, '2021-07-14 14:00:00', 'timeout'],\n",
    "        [7, '2021-06-12 11:57:29', 'confirmed'], [7, '2021-06-13 12:58:28', 'confirmed'],\n",
    "        [7, '2021-06-14 13:59:27', 'confirmed'], [2, '2021-01-22 00:00:00', 'confirmed'],\n",
    "        [2, '2021-02-28 23:59:59', 'timeout']]\n",
    "confirmations = pd.DataFrame(data, columns=['user_id', 'time_stamp', 'action']).astype(\n",
    "    {'user_id': 'Int64', 'time_stamp': 'datetime64[ns]', 'action': 'object'})"
   ],
   "metadata": {
    "collapsed": false,
    "ExecuteTime": {
     "end_time": "2023-11-05T19:01:53.559136800Z",
     "start_time": "2023-11-05T19:01:52.961274100Z"
    }
   },
   "id": "c7cd1ba66f6a6cdc"
  },
  {
   "cell_type": "code",
   "execution_count": 2,
   "outputs": [
    {
     "name": "stderr",
     "output_type": "stream",
     "text": [
      "bash: warning: setlocale: LC_ALL: cannot change locale (en_US.UTF-8)\n",
      "bash: warning: setlocale: LC_ALL: cannot change locale (en_US.UTF-8)\n",
      "23/11/05 12:07:39 WARN Utils: Your hostname, svchost resolves to a loopback address: 127.0.1.1; using 172.18.28.34 instead (on interface eth0)\n",
      "23/11/05 12:07:39 WARN Utils: Set SPARK_LOCAL_IP if you need to bind to another address\n",
      "Setting default log level to \"WARN\".\n",
      "To adjust logging level use sc.setLogLevel(newLevel). For SparkR, use setLogLevel(newLevel).\n",
      "23/11/05 12:07:41 WARN NativeCodeLoader: Unable to load native-hadoop library for your platform... using builtin-java classes where applicable\n"
     ]
    }
   ],
   "source": [
    "# to pyspark schema\n",
    "\n",
    "from pyspark.sql import SparkSession\n",
    "\n",
    "spark = SparkSession.builder.getOrCreate()\n",
    "\n",
    "signups_df = spark.createDataFrame(signups)\n",
    "confirmations_df = spark.createDataFrame(confirmations)"
   ],
   "metadata": {
    "collapsed": false,
    "ExecuteTime": {
     "end_time": "2023-11-05T19:02:05.837240200Z",
     "start_time": "2023-11-05T19:01:53.569940400Z"
    }
   },
   "id": "ca7cde997baaa96f"
  },
  {
   "cell_type": "code",
   "execution_count": 3,
   "outputs": [
    {
     "name": "stderr",
     "output_type": "stream",
     "text": [
      "                                                                                \r"
     ]
    },
    {
     "name": "stdout",
     "output_type": "stream",
     "text": [
      "+-------+-------------------+\n",
      "|user_id|         time_stamp|\n",
      "+-------+-------------------+\n",
      "|      3|2020-03-21 10:16:13|\n",
      "|      7|2020-01-04 13:57:59|\n",
      "|      2|2020-07-29 23:09:44|\n",
      "|      6|2020-12-09 10:39:37|\n",
      "+-------+-------------------+\n"
     ]
    }
   ],
   "source": [
    "signups_df.show()"
   ],
   "metadata": {
    "collapsed": false,
    "ExecuteTime": {
     "end_time": "2023-11-05T19:02:10.204860300Z",
     "start_time": "2023-11-05T19:02:05.842810200Z"
    }
   },
   "id": "fe53737287168664"
  },
  {
   "cell_type": "code",
   "execution_count": 4,
   "outputs": [
    {
     "name": "stdout",
     "output_type": "stream",
     "text": [
      "+-------+-------------------+---------+\n",
      "|user_id|         time_stamp|   action|\n",
      "+-------+-------------------+---------+\n",
      "|      3|2021-01-06 03:30:46|  timeout|\n",
      "|      3|2021-07-14 14:00:00|  timeout|\n",
      "|      7|2021-06-12 11:57:29|confirmed|\n",
      "|      7|2021-06-13 12:58:28|confirmed|\n",
      "|      7|2021-06-14 13:59:27|confirmed|\n",
      "|      2|2021-01-22 00:00:00|confirmed|\n",
      "|      2|2021-02-28 23:59:59|  timeout|\n",
      "+-------+-------------------+---------+\n"
     ]
    }
   ],
   "source": [
    "confirmations_df.show()"
   ],
   "metadata": {
    "collapsed": false,
    "ExecuteTime": {
     "end_time": "2023-11-05T19:02:11.280261100Z",
     "start_time": "2023-11-05T19:02:10.196379800Z"
    }
   },
   "id": "e9d4501b2d10f679"
  },
  {
   "cell_type": "code",
   "execution_count": 5,
   "outputs": [
    {
     "name": "stderr",
     "output_type": "stream",
     "text": [
      "                                                                                \r"
     ]
    },
    {
     "name": "stdout",
     "output_type": "stream",
     "text": [
      "+-------+-----------------+\n",
      "|user_id|confirmation_rate|\n",
      "+-------+-----------------+\n",
      "|      3|              0.0|\n",
      "|      7|              1.0|\n",
      "|      2|              0.5|\n",
      "|      6|              0.0|\n",
      "+-------+-----------------+\n"
     ]
    }
   ],
   "source": [
    "# in Spark Dataframe\n",
    "import pyspark.sql.functions as F\n",
    "\n",
    "signups_df.join(confirmations_df, on=['user_id'], how='left').select('user_id', 'action') \\\n",
    "    .groupBy('user_id') \\\n",
    "    .agg(F.round(F.avg(F.when(F.col('action') == 'confirmed', 1).otherwise(0)), 2).alias('confirmation_rate')) \\\n",
    "    .show()"
   ],
   "metadata": {
    "collapsed": false,
    "ExecuteTime": {
     "end_time": "2023-11-05T19:02:14.039395300Z",
     "start_time": "2023-11-05T19:02:11.274951500Z"
    }
   },
   "id": "9c647b45dc8ee9da"
  },
  {
   "cell_type": "code",
   "execution_count": 6,
   "outputs": [
    {
     "name": "stderr",
     "output_type": "stream",
     "text": [
      "[Stage 13:=================================================>      (14 + 2) / 16]\r"
     ]
    },
    {
     "name": "stdout",
     "output_type": "stream",
     "text": [
      "+-------+-----------------+\n",
      "|user_id|confirmation_rate|\n",
      "+-------+-----------------+\n",
      "|      3|              0.0|\n",
      "|      7|              1.0|\n",
      "|      2|              0.5|\n",
      "|      6|              0.0|\n",
      "+-------+-----------------+\n"
     ]
    },
    {
     "name": "stderr",
     "output_type": "stream",
     "text": [
      "                                                                                \r"
     ]
    }
   ],
   "source": [
    "# in Spark SQL\n",
    "signups_df.createOrReplaceTempView('signups')\n",
    "confirmations_df.createOrReplaceTempView('confirmations')\n",
    "\n",
    "spark.sql('''\n",
    "select signups.user_id, round(avg(case when action='confirmed' then 1 else 0 end),2) as confirmation_rate \n",
    "from signups\n",
    "left join confirmations\n",
    "on signups.user_id = confirmations.user_id\n",
    "group by signups.user_id\n",
    "''').show()"
   ],
   "metadata": {
    "collapsed": false,
    "ExecuteTime": {
     "end_time": "2023-11-05T19:02:15.629097800Z",
     "start_time": "2023-11-05T19:02:13.999645800Z"
    }
   },
   "id": "fbe69d8b8cc3845"
  },
  {
   "cell_type": "code",
   "execution_count": 7,
   "outputs": [],
   "source": [
    "spark.stop()"
   ],
   "metadata": {
    "collapsed": false,
    "ExecuteTime": {
     "end_time": "2023-11-05T19:02:16.554411Z",
     "start_time": "2023-11-05T19:02:15.616323900Z"
    }
   },
   "id": "3b09d0d3e7837236"
  },
  {
   "cell_type": "code",
   "execution_count": 7,
   "outputs": [],
   "source": [],
   "metadata": {
    "collapsed": false,
    "ExecuteTime": {
     "end_time": "2023-11-05T19:02:16.601571900Z",
     "start_time": "2023-11-05T19:02:16.539412800Z"
    }
   },
   "id": "8c67340b4c2ab210"
  }
 ],
 "metadata": {
  "kernelspec": {
   "display_name": "Python 3",
   "language": "python",
   "name": "python3"
  },
  "language_info": {
   "codemirror_mode": {
    "name": "ipython",
    "version": 2
   },
   "file_extension": ".py",
   "mimetype": "text/x-python",
   "name": "python",
   "nbconvert_exporter": "python",
   "pygments_lexer": "ipython2",
   "version": "2.7.6"
  }
 },
 "nbformat": 4,
 "nbformat_minor": 5
}
