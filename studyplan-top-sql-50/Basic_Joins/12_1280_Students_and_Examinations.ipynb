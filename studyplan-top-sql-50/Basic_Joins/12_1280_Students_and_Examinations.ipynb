{
 "cells": [
  {
   "cell_type": "markdown",
   "source": [
    "# [1280. Students and Examinations](https://leetcode.com/problems/students-and-examinations/description/?envType=study-plan-v2&envId=top-sql-50)"
   ],
   "metadata": {
    "collapsed": false
   },
   "id": "e8ada24af956aa62"
  },
  {
   "cell_type": "markdown",
   "source": [
    "Table: Students\n",
    "\n",
    "<pre>+---------------+---------+\n",
    "| Column Name   | Type    |\n",
    "+---------------+---------+\n",
    "| student_id    | int     |\n",
    "| student_name  | varchar |\n",
    "+---------------+---------+</pre>\n",
    "student_id is the primary key (column with unique values) for this table.\n",
    "Each row of this table contains the ID and the name of one student in the school.\n",
    " \n",
    "\n",
    "Table: Subjects\n",
    "\n",
    "<pre>+--------------+---------+\n",
    "| Column Name  | Type    |\n",
    "+--------------+---------+\n",
    "| subject_name | varchar |\n",
    "+--------------+---------+</pre>\n",
    "subject_name is the primary key (column with unique values) for this table.\n",
    "Each row of this table contains the name of one subject in the school.\n",
    " \n",
    "\n",
    "Table: Examinations\n",
    "\n",
    "<pre>+--------------+---------+\n",
    "| Column Name  | Type    |\n",
    "+--------------+---------+\n",
    "| student_id   | int     |\n",
    "| subject_name | varchar |\n",
    "+--------------+---------+</pre>\n",
    "There is no primary key (column with unique values) for this table. It may contain duplicates.\n",
    "Each student from the Students table takes every course from the Subjects table.\n",
    "Each row of this table indicates that a student with ID student_id attended the exam of subject_name.\n",
    " \n",
    "\n",
    "Write a solution to find the number of times each student attended each exam.\n",
    "\n",
    "Return the result table ordered by student_id and subject_name.\n",
    "\n",
    "The result format is in the following example.\n",
    "\n",
    " \n",
    "\n",
    "Example 1:\n",
    "\n",
    "Input: \n",
    "Students table:\n",
    "<pre>+------------+--------------+\n",
    "| student_id | student_name |\n",
    "+------------+--------------+\n",
    "| 1          | Alice        |\n",
    "| 2          | Bob          |\n",
    "| 13         | John         |\n",
    "| 6          | Alex         |\n",
    "+------------+--------------+</pre>\n",
    "Subjects table:\n",
    "<pre>+--------------+\n",
    "| subject_name |\n",
    "+--------------+\n",
    "| Math         |\n",
    "| Physics      |\n",
    "| Programming  |\n",
    "+--------------+</pre>\n",
    "Examinations table:\n",
    "<pre>+------------+--------------+\n",
    "| student_id | subject_name |\n",
    "+------------+--------------+\n",
    "| 1          | Math         |\n",
    "| 1          | Physics      |\n",
    "| 1          | Programming  |\n",
    "| 2          | Programming  |\n",
    "| 1          | Physics      |\n",
    "| 1          | Math         |\n",
    "| 13         | Math         |\n",
    "| 13         | Programming  |\n",
    "| 13         | Physics      |\n",
    "| 2          | Math         |\n",
    "| 1          | Math         |\n",
    "+------------+--------------+</pre>\n",
    "Output: \n",
    "<pre>+------------+--------------+--------------+----------------+\n",
    "| student_id | student_name | subject_name | attended_exams |\n",
    "+------------+--------------+--------------+----------------+\n",
    "| 1          | Alice        | Math         | 3              |\n",
    "| 1          | Alice        | Physics      | 2              |\n",
    "| 1          | Alice        | Programming  | 1              |\n",
    "| 2          | Bob          | Math         | 1              |\n",
    "| 2          | Bob          | Physics      | 0              |\n",
    "| 2          | Bob          | Programming  | 1              |\n",
    "| 6          | Alex         | Math         | 0              |\n",
    "| 6          | Alex         | Physics      | 0              |\n",
    "| 6          | Alex         | Programming  | 0              |\n",
    "| 13         | John         | Math         | 1              |\n",
    "| 13         | John         | Physics      | 1              |\n",
    "| 13         | John         | Programming  | 1              |\n",
    "+------------+--------------+--------------+----------------+</pre>\n",
    "Explanation: \n",
    "The result table should contain all students and all subjects.\n",
    "Alice attended the Math exam 3 times, the Physics exam 2 times, and the Programming exam 1 time.\n",
    "Bob attended the Math exam 1 time, the Programming exam 1 time, and did not attend the Physics exam.\n",
    "Alex did not attend any exams.\n",
    "John attended the Math exam 1 time, the Physics exam 1 time, and the Programming exam 1 time."
   ],
   "metadata": {
    "collapsed": false
   },
   "id": "4d3f67c2da322ea7"
  },
  {
   "cell_type": "code",
   "execution_count": 1,
   "outputs": [],
   "source": [
    "# Pandas Schema\n",
    "\n",
    "import pandas as pd\n",
    "\n",
    "data = [[1, 'Alice'], [2, 'Bob'], [13, 'John'], [6, 'Alex']]\n",
    "students = pd.DataFrame(data, columns=['student_id', 'student_name']).astype(\n",
    "    {'student_id': 'Int64', 'student_name': 'object'})\n",
    "data = [['Math'], ['Physics'], ['Programming']]\n",
    "subjects = pd.DataFrame(data, columns=['subject_name']).astype({'subject_name': 'object'})\n",
    "data = [[1, 'Math'], [1, 'Physics'], [1, 'Programming'], [2, 'Programming'], [1, 'Physics'], [1, 'Math'], [13, 'Math'],\n",
    "        [13, 'Programming'], [13, 'Physics'], [2, 'Math'], [1, 'Math']]\n",
    "examinations = pd.DataFrame(data, columns=['student_id', 'subject_name']).astype(\n",
    "    {'student_id': 'Int64', 'subject_name': 'object'})"
   ],
   "metadata": {
    "collapsed": false,
    "ExecuteTime": {
     "end_time": "2023-11-05T19:00:01.858511Z",
     "start_time": "2023-11-05T19:00:01.252491500Z"
    }
   },
   "id": "2ecf835d6abee511"
  },
  {
   "cell_type": "code",
   "execution_count": 2,
   "outputs": [
    {
     "name": "stderr",
     "output_type": "stream",
     "text": [
      "bash: warning: setlocale: LC_ALL: cannot change locale (en_US.UTF-8)\n",
      "bash: warning: setlocale: LC_ALL: cannot change locale (en_US.UTF-8)\n",
      "23/11/05 12:05:38 WARN Utils: Your hostname, svchost resolves to a loopback address: 127.0.1.1; using 172.18.28.34 instead (on interface eth0)\n",
      "23/11/05 12:05:38 WARN Utils: Set SPARK_LOCAL_IP if you need to bind to another address\n",
      "Setting default log level to \"WARN\".\n",
      "To adjust logging level use sc.setLogLevel(newLevel). For SparkR, use setLogLevel(newLevel).\n",
      "23/11/05 12:05:40 WARN NativeCodeLoader: Unable to load native-hadoop library for your platform... using builtin-java classes where applicable\n"
     ]
    }
   ],
   "source": [
    "# Pyspark conversion\n",
    "\n",
    "from pyspark.sql import SparkSession\n",
    "\n",
    "spark = SparkSession.builder.getOrCreate()\n",
    "\n",
    "students_df = spark.createDataFrame(students)\n",
    "subjects_df = spark.createDataFrame(subjects)\n",
    "examinations_df = spark.createDataFrame(examinations)"
   ],
   "metadata": {
    "collapsed": false,
    "ExecuteTime": {
     "end_time": "2023-11-05T19:00:14.053929800Z",
     "start_time": "2023-11-05T19:00:01.859764Z"
    }
   },
   "id": "967b4b1b3de18aff"
  },
  {
   "cell_type": "code",
   "execution_count": 3,
   "outputs": [
    {
     "name": "stderr",
     "output_type": "stream",
     "text": [
      "                                                                                \r"
     ]
    },
    {
     "name": "stdout",
     "output_type": "stream",
     "text": [
      "+----------+------------+\n",
      "|student_id|student_name|\n",
      "+----------+------------+\n",
      "|         1|       Alice|\n",
      "|         2|         Bob|\n",
      "|        13|        John|\n",
      "|         6|        Alex|\n",
      "+----------+------------+\n"
     ]
    }
   ],
   "source": [
    "students_df.show()"
   ],
   "metadata": {
    "collapsed": false,
    "ExecuteTime": {
     "end_time": "2023-11-05T19:00:18.271646900Z",
     "start_time": "2023-11-05T19:00:14.052795300Z"
    }
   },
   "id": "65b6382159f26076"
  },
  {
   "cell_type": "code",
   "execution_count": 4,
   "outputs": [
    {
     "name": "stdout",
     "output_type": "stream",
     "text": [
      "+------------+\n",
      "|subject_name|\n",
      "+------------+\n",
      "|        Math|\n",
      "|     Physics|\n",
      "| Programming|\n",
      "+------------+\n"
     ]
    }
   ],
   "source": [
    "subjects_df.show()"
   ],
   "metadata": {
    "collapsed": false,
    "ExecuteTime": {
     "end_time": "2023-11-05T19:00:19.371160600Z",
     "start_time": "2023-11-05T19:00:18.266227400Z"
    }
   },
   "id": "d6f2669ecef678df"
  },
  {
   "cell_type": "code",
   "execution_count": 5,
   "outputs": [
    {
     "name": "stdout",
     "output_type": "stream",
     "text": [
      "+----------+------------+\n",
      "|student_id|subject_name|\n",
      "+----------+------------+\n",
      "|         1|        Math|\n",
      "|         1|     Physics|\n",
      "|         1| Programming|\n",
      "|         2| Programming|\n",
      "|         1|     Physics|\n",
      "|         1|        Math|\n",
      "|        13|        Math|\n",
      "|        13| Programming|\n",
      "|        13|     Physics|\n",
      "|         2|        Math|\n",
      "|         1|        Math|\n",
      "+----------+------------+\n"
     ]
    }
   ],
   "source": [
    "examinations_df.show()"
   ],
   "metadata": {
    "collapsed": false,
    "ExecuteTime": {
     "end_time": "2023-11-05T19:00:20.424446600Z",
     "start_time": "2023-11-05T19:00:19.365308700Z"
    }
   },
   "id": "ddd16774bb671c06"
  },
  {
   "cell_type": "code",
   "execution_count": 6,
   "outputs": [
    {
     "name": "stderr",
     "output_type": "stream",
     "text": [
      "                                                                                \r"
     ]
    },
    {
     "name": "stdout",
     "output_type": "stream",
     "text": [
      "+----------+------------+------------+--------------+\n",
      "|student_id|student_name|subject_name|attended_exams|\n",
      "+----------+------------+------------+--------------+\n",
      "|         1|       Alice|        Math|             3|\n",
      "|         1|       Alice|     Physics|             2|\n",
      "|         1|       Alice| Programming|             1|\n",
      "|         2|         Bob|        Math|             1|\n",
      "|         2|         Bob|     Physics|             0|\n",
      "|         2|         Bob| Programming|             1|\n",
      "|         6|        Alex|        Math|             0|\n",
      "|         6|        Alex|     Physics|             0|\n",
      "|         6|        Alex| Programming|             0|\n",
      "|        13|        John|        Math|             1|\n",
      "|        13|        John|     Physics|             1|\n",
      "|        13|        John| Programming|             1|\n",
      "+----------+------------+------------+--------------+\n"
     ]
    }
   ],
   "source": [
    "# In spark Dataframe\n",
    "from pyspark.sql import functions as F\n",
    "\n",
    "students_subjects_df = students_df \\\n",
    "    .join(subjects_df)\n",
    "\n",
    "examinations_df_renamed = examinations_df.withColumnsRenamed({'student_id': 'st_id', 'subject_name': 'sub_name'})\n",
    "\n",
    "students_subjects_df \\\n",
    "    .join(examinations_df_renamed\n",
    "          , on=((examinations_df_renamed['st_id'] == students_subjects_df['student_id'])\n",
    "                &\n",
    "                (examinations_df_renamed['sub_name'] == students_subjects_df['subject_name']))\n",
    "          , how='left')\\\n",
    "    .withColumn('exam_count',F.when(F.isnull('st_id'),0).otherwise(1))\\\n",
    "    .groupBy('student_id','student_name','subject_name')\\\n",
    "    .agg(F.sum('exam_count').alias('attended_exams'))\\\n",
    "    .orderBy(F.col('student_id').asc(), F.col('student_name').asc()) \\\n",
    "    .show()"
   ],
   "metadata": {
    "collapsed": false,
    "ExecuteTime": {
     "end_time": "2023-11-05T19:00:31.472692800Z",
     "start_time": "2023-11-05T19:00:20.416638900Z"
    }
   },
   "id": "75b54094cc39f982"
  },
  {
   "cell_type": "code",
   "execution_count": 7,
   "outputs": [
    {
     "name": "stderr",
     "output_type": "stream",
     "text": [
      "                                                                                \r"
     ]
    },
    {
     "name": "stdout",
     "output_type": "stream",
     "text": [
      "+----------+------------+------------+--------------+\n",
      "|student_id|student_name|subject_name|attended_exams|\n",
      "+----------+------------+------------+--------------+\n",
      "|         1|       Alice|        Math|             3|\n",
      "|         1|       Alice|     Physics|             2|\n",
      "|         1|       Alice| Programming|             1|\n",
      "|         2|         Bob|        Math|             1|\n",
      "|         2|         Bob|     Physics|             0|\n",
      "|         2|         Bob| Programming|             1|\n",
      "|         6|        Alex|        Math|             0|\n",
      "|         6|        Alex|     Physics|             0|\n",
      "|         6|        Alex| Programming|             0|\n",
      "|        13|        John|        Math|             1|\n",
      "|        13|        John|     Physics|             1|\n",
      "|        13|        John| Programming|             1|\n",
      "+----------+------------+------------+--------------+\n"
     ]
    }
   ],
   "source": [
    "# In spark SQL\n",
    "\n",
    "students_df.createOrReplaceTempView('students')\n",
    "subjects_df.createOrReplaceTempView('subjects')\n",
    "examinations_df.createOrReplaceTempView('examinations')\n",
    "\n",
    "spark.sql('''\n",
    "with students_subjects as (\n",
    "    select * from students\n",
    "    join subjects \n",
    ")\n",
    "select \n",
    "    students_subjects.student_id,\n",
    "    students_subjects.student_name,\n",
    "    students_subjects.subject_name,\n",
    "    sum(\n",
    "    case when examinations.student_id is null then 0\n",
    "    else 1 end\n",
    "    ) as attended_exams\n",
    "from students_subjects\n",
    "left join examinations \n",
    "on students_subjects.student_id = examinations.student_id and students_subjects.subject_name = examinations.subject_name\n",
    "group by students_subjects.student_id, students_subjects.student_name, students_subjects.subject_name\n",
    "order by student_id, subject_name;\n",
    "''').show()"
   ],
   "metadata": {
    "collapsed": false,
    "ExecuteTime": {
     "end_time": "2023-11-05T19:00:41.165929600Z",
     "start_time": "2023-11-05T19:00:31.468207700Z"
    }
   },
   "id": "957ae3da85d6a42a"
  },
  {
   "cell_type": "code",
   "execution_count": 8,
   "outputs": [],
   "source": [
    "spark.stop()"
   ],
   "metadata": {
    "collapsed": false,
    "ExecuteTime": {
     "end_time": "2023-11-05T19:00:42.079636100Z",
     "start_time": "2023-11-05T19:00:41.163660400Z"
    }
   },
   "id": "ccc47d0308475dda"
  },
  {
   "cell_type": "code",
   "execution_count": 8,
   "outputs": [],
   "source": [],
   "metadata": {
    "collapsed": false,
    "ExecuteTime": {
     "end_time": "2023-11-05T19:00:42.149565Z",
     "start_time": "2023-11-05T19:00:42.087660900Z"
    }
   },
   "id": "a227609a75652c87"
  }
 ],
 "metadata": {
  "kernelspec": {
   "display_name": "Python 3",
   "language": "python",
   "name": "python3"
  },
  "language_info": {
   "codemirror_mode": {
    "name": "ipython",
    "version": 2
   },
   "file_extension": ".py",
   "mimetype": "text/x-python",
   "name": "python",
   "nbconvert_exporter": "python",
   "pygments_lexer": "ipython2",
   "version": "2.7.6"
  }
 },
 "nbformat": 4,
 "nbformat_minor": 5
}
